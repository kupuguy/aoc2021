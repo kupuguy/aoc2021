{
 "cells": [
  {
   "cell_type": "markdown",
   "metadata": {
    "collapsed": true,
    "pycharm": {
     "name": "#%% md\n"
    }
   },
   "source": [
    "# Day 3: Binary Diagnostic\n",
    "\n",
    "[https://adventofcode.com/2021/day/3](https://adventofcode.com/2021/day/3)\n",
    "\n",
    "## Description\n",
    "\n",
    "### Part One\n",
    "\n",
    "The submarine has been making some <span title=\"Turns out oceans are heavy.\">odd creaking noises</span>, so you ask it to produce a diagnostic report just in case.\n",
    "\n",
    "The diagnostic report (your puzzle input) consists of a list of binary numbers which, when decoded properly, can tell you many useful things about the conditions of the submarine. The first parameter to check is the _power consumption_.\n",
    "\n",
    "You need to use the binary numbers in the diagnostic report to generate two new binary numbers (called the _gamma rate_ and the _epsilon rate_). The power consumption can then be found by multiplying the gamma rate by the epsilon rate.\n",
    "\n",
    "Each bit in the gamma rate can be determined by finding the _most common bit in the corresponding position_ of all numbers in the diagnostic report. For example, given the following diagnostic report:\n",
    "\n",
    "    00100\n",
    "    11110\n",
    "    10110\n",
    "    10111\n",
    "    10101\n",
    "    01111\n",
    "    00111\n",
    "    11100\n",
    "    10000\n",
    "    11001\n",
    "    00010\n",
    "    01010\n",
    "\n",
    "\n",
    "Considering only the first bit of each number, there are five `0` bits and seven `1` bits. Since the most common bit is `1`, the first bit of the gamma rate is `1`.\n",
    "\n",
    "The most common second bit of the numbers in the diagnostic report is `0`, so the second bit of the gamma rate is `0`.\n",
    "\n",
    "The most common value of the third, fourth, and fifth bits are `1`, `1`, and `0`, respectively, and so the final three bits of the gamma rate are `110`.\n",
    "\n",
    "So, the gamma rate is the binary number `10110`, or _`22`_ in decimal.\n",
    "\n",
    "The epsilon rate is calculated in a similar way; rather than use the most common bit, the least common bit from each position is used. So, the epsilon rate is `01001`, or _`9`_ in decimal. Multiplying the gamma rate (`22`) by the epsilon rate (`9`) produces the power consumption, _`198`_.\n",
    "\n",
    "Use the binary numbers in your diagnostic report to calculate the gamma rate and epsilon rate, then multiply them together. _What is the power consumption of the submarine?_ (Be sure to represent your answer in decimal, not binary.)"
   ]
  },
  {
   "cell_type": "code",
   "execution_count": 1,
   "outputs": [
    {
     "name": "stdout",
     "output_type": "stream",
     "text": [
      "Counter({'1': 7, '0': 5})\n",
      "Counter({'0': 7, '1': 5})\n",
      "Counter({'1': 8, '0': 4})\n",
      "Counter({'1': 7, '0': 5})\n",
      "Counter({'0': 7, '1': 5})\n",
      "198\n"
     ]
    }
   ],
   "source": [
    "from collections import Counter\n",
    "\n",
    "data = '''00100 11110 10110 10111 10101 01111 00111 11100 10000 11001 00010 01010'''.split()\n",
    "\n",
    "\n",
    "def part1():\n",
    "    most = []\n",
    "    for column in zip(*data):\n",
    "        counts = Counter(column)\n",
    "        most.append(counts.most_common(1)[0][0])\n",
    "        print(counts)\n",
    "    gamma = int(''.join(most), 2)\n",
    "    epsilon = int(''.join('0' if c=='1' else '1' for c in most), 2)\n",
    "    print(gamma * epsilon)\n",
    "\n",
    "part1()\n"
   ],
   "metadata": {
    "collapsed": false,
    "pycharm": {
     "name": "#%%\n"
    }
   }
  },
  {
   "cell_type": "markdown",
   "source": [
    "<div class=\"alert alert-block alert-info\">\n",
    "I cleaned this up into a function so I can reuse it here, for the original code I just edited it to run with the real data.\n",
    "</div>"
   ],
   "metadata": {
    "collapsed": false
   }
  },
  {
   "cell_type": "code",
   "execution_count": 3,
   "outputs": [
    {
     "name": "stdout",
     "output_type": "stream",
     "text": [
      "Counter({'0': 501, '1': 499})\n",
      "Counter({'0': 511, '1': 489})\n",
      "Counter({'0': 502, '1': 498})\n",
      "Counter({'0': 510, '1': 490})\n",
      "Counter({'1': 502, '0': 498})\n",
      "Counter({'0': 516, '1': 484})\n",
      "Counter({'1': 515, '0': 485})\n",
      "Counter({'1': 508, '0': 492})\n",
      "Counter({'1': 502, '0': 498})\n",
      "Counter({'1': 518, '0': 482})\n",
      "Counter({'1': 517, '0': 483})\n",
      "Counter({'0': 513, '1': 487})\n",
      "741950\n"
     ]
    }
   ],
   "source": [
    "data = [l.strip() for l in open('input/day3.txt').readlines() if l.strip()]\n",
    "part1()\n"
   ],
   "metadata": {
    "collapsed": false,
    "pycharm": {
     "name": "#%%\n"
    }
   }
  },
  {
   "cell_type": "markdown",
   "source": [
    "**Your puzzle answer was 741950.**\n",
    "\n",
    "### Part Two\n",
    "\n",
    "Next, you should verify the _life support rating_, which can be determined by multiplying the _oxygen generator rating_ by the _CO2 scrubber rating_.\n",
    "\n",
    "Both the oxygen generator rating and the CO2 scrubber rating are values that can be found in your diagnostic report - finding them is the tricky part. Both values are located using a similar process that involves filtering out values until only one remains. Before searching for either rating value, start with the full list of binary numbers from your diagnostic report and _consider just the first bit_ of those numbers. Then:\n",
    "\n",
    "*   Keep only numbers selected by the _bit criteria_ for the type of rating value for which you are searching. Discard numbers which do not match the bit criteria.\n",
    "*   If you only have one number left, stop; this is the rating value for which you are searching.\n",
    "*   Otherwise, repeat the process, considering the next bit to the right.\n",
    "\n",
    "The _bit criteria_ depends on which type of rating value you want to find:\n",
    "\n",
    "*   To find _oxygen generator rating_, determine the _most common_ value (`0` or `1`) in the current bit position, and keep only numbers with that bit in that position. If `0` and `1` are equally common, keep values with a _`1`_ in the position being considered.\n",
    "*   To find _CO2 scrubber rating_, determine the _least common_ value (`0` or `1`) in the current bit position, and keep only numbers with that bit in that position. If `0` and `1` are equally common, keep values with a _`0`_ in the position being considered.\n",
    "\n",
    "For example, to determine the _oxygen generator rating_ value using the same example diagnostic report from above:\n",
    "\n",
    "*   Start with all 12 numbers and consider only the first bit of each number. There are more `1` bits (7) than `0` bits (5), so keep only the 7 numbers with a `1` in the first position: `11110`, `10110`, `10111`, `10101`, `11100`, `10000`, and `11001`.\n",
    "*   Then, consider the second bit of the 7 remaining numbers: there are more `0` bits (4) than `1` bits (3), so keep only the 4 numbers with a `0` in the second position: `10110`, `10111`, `10101`, and `10000`.\n",
    "*   In the third position, three of the four numbers have a `1`, so keep those three: `10110`, `10111`, and `10101`.\n",
    "*   In the fourth position, two of the three numbers have a `1`, so keep those two: `10110` and `10111`.\n",
    "*   In the fifth position, there are an equal number of `0` bits and `1` bits (one each). So, to find the _oxygen generator rating_, keep the number with a `1` in that position: `10111`.\n",
    "*   As there is only one number left, stop; the _oxygen generator rating_ is `10111`, or _`23`_ in decimal.\n",
    "\n",
    "Then, to determine the _CO2 scrubber rating_ value from the same example above:\n",
    "\n",
    "*   Start again with all 12 numbers and consider only the first bit of each number. There are fewer `0` bits (5) than `1` bits (7), so keep only the 5 numbers with a `0` in the first position: `00100`, `01111`, `00111`, `00010`, and `01010`.\n",
    "*   Then, consider the second bit of the 5 remaining numbers: there are fewer `1` bits (2) than `0` bits (3), so keep only the 2 numbers with a `1` in the second position: `01111` and `01010`.\n",
    "*   In the third position, there are an equal number of `0` bits and `1` bits (one each). So, to find the _CO2 scrubber rating_, keep the number with a `0` in that position: `01010`.\n",
    "*   As there is only one number left, stop; the _CO2 scrubber rating_ is `01010`, or _`10`_ in decimal.\n",
    "\n",
    "Finally, to find the life support rating, multiply the oxygen generator rating (`23`) by the CO2 scrubber rating (`10`) to get _`230`_.\n",
    "\n",
    "Use the binary numbers in your diagnostic report to calculate the oxygen generator rating and CO2 scrubber rating, then multiply them together. _What is the life support rating of the submarine?_ (Be sure to represent your answer in decimal, not binary.)"
   ],
   "metadata": {
    "collapsed": false
   }
  },
  {
   "cell_type": "code",
   "execution_count": 4,
   "outputs": [
    {
     "name": "stdout",
     "output_type": "stream",
     "text": [
      "len= <built-in function len>\n",
      "Counter({'0': 501, '1': 499})\n",
      "len= <built-in function len>\n",
      "Counter({'0': 258, '1': 243})\n",
      "len= <built-in function len>\n",
      "Counter({'0': 137, '1': 121})\n",
      "len= <built-in function len>\n",
      "Counter({'1': 81, '0': 56})\n",
      "len= <built-in function len>\n",
      "Counter({'0': 44, '1': 37})\n",
      "len= <built-in function len>\n",
      "Counter({'0': 23, '1': 21})\n",
      "len= <built-in function len>\n",
      "Counter({'0': 12, '1': 11})\n",
      "len= <built-in function len>\n",
      "Counter({'1': 6, '0': 6})\n",
      "len= <built-in function len>\n",
      "Counter({'1': 3, '0': 3})\n",
      "len= <built-in function len>\n",
      "Counter({'0': 2, '1': 1})\n",
      "len= <built-in function len>\n",
      "Counter({'1': 1, '0': 1})\n",
      "282\n",
      "len= <built-in function len>\n",
      "Counter({'0': 501, '1': 499})\n",
      "len= <built-in function len>\n",
      "Counter({'0': 253, '1': 246})\n",
      "len= <built-in function len>\n",
      "Counter({'0': 123, '1': 123})\n",
      "len= <built-in function len>\n",
      "Counter({'1': 65, '0': 58})\n",
      "len= <built-in function len>\n",
      "Counter({'0': 30, '1': 28})\n",
      "len= <built-in function len>\n",
      "Counter({'0': 14, '1': 14})\n",
      "len= <built-in function len>\n",
      "Counter({'1': 9, '0': 5})\n",
      "len= <built-in function len>\n",
      "Counter({'1': 3, '0': 2})\n",
      "len= <built-in function len>\n",
      "Counter({'0': 1, '1': 1})\n",
      "3205 903810\n"
     ]
    }
   ],
   "source": [
    "def count_bits(data, pos):\n",
    "    counts = Counter(d[pos] for d in data)\n",
    "    print(counts)\n",
    "    ones, zeros = counts.get('1', 0), counts.get('0', 0)\n",
    "    keep_bit = '1' if ones >= zeros else '0'\n",
    "    return [d for d in data if d[pos] == keep_bit]\n",
    "\n",
    "def keep_least(data, pos):\n",
    "    counts = Counter(d[pos] for d in data)\n",
    "    print(counts)\n",
    "    ones, zeros = counts.get('1', 0), counts.get('0', 0)\n",
    "    keep_bit = '0' if zeros <= ones else '1'\n",
    "    return [d for d in data if d[pos] == keep_bit]\n",
    "\n",
    "\n",
    "data2 = data\n",
    "pos = 0\n",
    "while len(data) > 1:\n",
    "    print(\"len=\", len)\n",
    "    data = count_bits(data, pos)\n",
    "    pos += 1\n",
    "oxygen = int(data[0],2)\n",
    "print(oxygen)\n",
    "data = data2\n",
    "pos = 0\n",
    "while len(data) > 1:\n",
    "    print(\"len=\", len)\n",
    "    data = keep_least(data, pos)\n",
    "    pos += 1\n",
    "co2 = int(data[0], 2)\n",
    "print(co2, oxygen*co2)\n"
   ],
   "metadata": {
    "collapsed": false,
    "pycharm": {
     "name": "#%%\n"
    }
   }
  },
  {
   "cell_type": "markdown",
   "source": [
    "**Your puzzle answer was 903810.**"
   ],
   "metadata": {
    "collapsed": false,
    "pycharm": {
     "name": "#%% md\n"
    }
   }
  },
  {
   "cell_type": "markdown",
   "source": [
    "<div class=\"alert alert-block alert-info\">\n",
    "Yes, I messed up one of the print statements there. No matter the right answer dropped out at the end.\n",
    "</div>"
   ],
   "metadata": {
    "collapsed": false,
    "pycharm": {
     "name": "#%% md\n"
    }
   }
  }
 ],
 "metadata": {
  "kernelspec": {
   "display_name": "Python 3",
   "language": "python",
   "name": "python3"
  },
  "language_info": {
   "codemirror_mode": {
    "name": "ipython",
    "version": 2
   },
   "file_extension": ".py",
   "mimetype": "text/x-python",
   "name": "python",
   "nbconvert_exporter": "python",
   "pygments_lexer": "ipython2",
   "version": "2.7.6"
  }
 },
 "nbformat": 4,
 "nbformat_minor": 0
}