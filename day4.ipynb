{
 "cells": [
  {
   "cell_type": "markdown",
   "metadata": {
    "collapsed": true,
    "pycharm": {
     "name": "#%% md\n"
    }
   },
   "source": [
    "# Day 4: Giant Squid\n",
    "\n",
    "[https://adventofcode.com/2021/day/4](https://adventofcode.com/2021/day/4)\n",
    "\n",
    "## Description\n",
    "\n",
    "### Part One\n",
    "\n",
    "You're already almost 1.5km (almost a mile) below the surface of the ocean, already so deep that you can't see any sunlight. What you _can_ see, however, is a giant squid that has attached itself to the outside of your submarine.\n",
    "\n",
    "Maybe it wants to play [bingo](https://en.wikipedia.org/wiki/Bingo_(American_version))?\n",
    "\n",
    "Bingo is played on a set of boards each consisting of a 5x5 grid of numbers. Numbers are chosen at random, and the chosen number is _marked_ on all boards on which it appears. (Numbers may not appear on all boards.) If all numbers in any row or any column of a board are marked, that board _wins_. (Diagonals don't count.)\n",
    "\n",
    "The submarine has a _bingo subsystem_ to help passengers (currently, you and the giant squid) pass the time. It automatically generates a random order in which to draw numbers and a random set of boards (your puzzle input). For example:\n",
    "\n",
    "    7,4,9,5,11,17,23,2,0,14,21,24,10,16,13,6,15,25,12,22,18,20,8,19,3,26,1\n",
    "\n",
    "    22 13 17 11  0\n",
    "     8  2 23  4 24\n",
    "    21  9 14 16  7\n",
    "     6 10  3 18  5\n",
    "     1 12 20 15 19\n",
    "\n",
    "     3 15  0  2 22\n",
    "     9 18 13 17  5\n",
    "    19  8  7 25 23\n",
    "    20 11 10 24  4\n",
    "    14 21 16 12  6\n",
    "\n",
    "    14 21 17 24  4\n",
    "    10 16 15  9 19\n",
    "    18  8 23 26 20\n",
    "    22 11 13  6  5\n",
    "     2  0 12  3  7\n",
    "\n",
    "\n",
    "After the first five numbers are drawn (`7`, `4`, `9`, `5`, and `11`), there are no winners, but the boards are marked as follows (shown here adjacent to each other to save space):\n",
    "\n",
    "    22 13 17 11  0         3 15  0  2 22        14 21 17 24  4\n",
    "     8  2 23  4 24         9 18 13 17  5        10 16 15  9 19\n",
    "    21  9 14 16  7        19  8  7 25 23        18  8 23 26 20\n",
    "     6 10  3 18  5        20 11 10 24  4        22 11 13  6  5\n",
    "     1 12 20 15 19        14 21 16 12  6         2  0 12  3  7\n",
    "\n",
    "\n",
    "After the next six numbers are drawn (`17`, `23`, `2`, `0`, `14`, and `21`), there are still no winners:\n",
    "\n",
    "    22 13 17 11  0         3 15  0  2 22        14 21 17 24  4\n",
    "     8  2 23  4 24         9 18 13 17  5        10 16 15  9 19\n",
    "    21  9 14 16  7        19  8  7 25 23        18  8 23 26 20\n",
    "     6 10  3 18  5        20 11 10 24  4        22 11 13  6  5\n",
    "     1 12 20 15 19        14 21 16 12  6         2  0 12  3  7\n",
    "\n",
    "\n",
    "Finally, `24` is drawn:\n",
    "\n",
    "    22 13 17 11  0         3 15  0  2 22        14 21 17 24  4\n",
    "     8  2 23  4 24         9 18 13 17  5        10 16 15  9 19\n",
    "    21  9 14 16  7        19  8  7 25 23        18  8 23 26 20\n",
    "     6 10  3 18  5        20 11 10 24  4        22 11 13  6  5\n",
    "     1 12 20 15 19        14 21 16 12  6         2  0 12  3  7\n",
    "\n",
    "\n",
    "At this point, the third board _wins_ because it has at least one complete row or column of marked numbers (in this case, the entire top row is marked: _`14 21 17 24 4`_).\n",
    "\n",
    "The _score_ of the winning board can now be calculated. Start by finding the _sum of all unmarked numbers_ on that board; in this case, the sum is `188`. Then, multiply that sum by _the number that was just called_ when the board won, `24`, to get the final score, `188 * 24 = 4512`.\n",
    "\n",
    "To guarantee victory against the giant squid, figure out which board will win first. _What will your final score be if you choose that board?_"
   ]
  },
  {
   "cell_type": "code",
   "execution_count": 1,
   "outputs": [
    {
     "name": "stdout",
     "output_type": "stream",
     "text": [
      "numbers=[7, 4, 9, 5, 11, 17, 23, 2, 0, 14, 21, 24, 10, 16, 13, 6, 15, 25, 12, 22, 18, 20, 8, 19, 3, 26, 1]\n",
      "len(boards)=3\n",
      "(11, 4512)\n"
     ]
    }
   ],
   "source": [
    "def read_board(f):\n",
    "    board = []\n",
    "    for row in range(5):\n",
    "        board.append([int(n) for n in f.readline().strip().split()])\n",
    "        if not len(board[-1])==5: return None\n",
    "    assert not f.readline().strip()\n",
    "    return board\n",
    "\n",
    "def mark(board, numbers):\n",
    "    '''Returns count numbers needed and score for board'''\n",
    "    rows = [set(b) for b in board]\n",
    "    columns = [set(b) for b in zip(*board)]\n",
    "    for count, number in enumerate(numbers):\n",
    "        for row in rows:\n",
    "            if number in row:\n",
    "                row.remove(number)\n",
    "                if not row:\n",
    "                    return count, sum(sum(r) for r in rows) * number\n",
    "        for col in columns:\n",
    "            if number in col:\n",
    "                col.remove(number)\n",
    "                if not col:\n",
    "                    return count, sum(sum(c) for c in columns) * number\n",
    "\n",
    "def part1(filename):\n",
    "    with open(filename) as f:\n",
    "        numbers = [int(n) for n in f.readline().strip().split(',')]\n",
    "        assert not f.readline().strip()\n",
    "        boards = []\n",
    "        while not boards or boards[-1] is not None:\n",
    "            boards.append(read_board(f))\n",
    "        boards.pop(-1)\n",
    "\n",
    "\n",
    "    print(f\"{numbers=}\")\n",
    "    print(f\"{len(boards)=}\")\n",
    "    scores = [mark(b, numbers) for b in boards]\n",
    "    winner = min(scores)\n",
    "    print(winner)\n",
    "\n",
    "part1('input/day4-test.txt')"
   ],
   "metadata": {
    "collapsed": false,
    "pycharm": {
     "name": "#%%\n"
    }
   }
  },
  {
   "cell_type": "markdown",
   "source": [
    "<div class=\"alert alert-info\">\n",
    "I cleaned this up into a function so I can reuse it here, for the original code I just edited it to run with the real data.\n",
    "</div>"
   ],
   "metadata": {
    "collapsed": false,
    "pycharm": {
     "name": "#%% md\n"
    }
   }
  },
  {
   "cell_type": "code",
   "execution_count": 2,
   "outputs": [
    {
     "name": "stdout",
     "output_type": "stream",
     "text": [
      "numbers=[83, 5, 71, 61, 88, 55, 95, 6, 0, 97, 20, 16, 27, 7, 79, 25, 81, 29, 22, 52, 43, 21, 53, 59, 99, 18, 35, 96, 51, 93, 14, 77, 15, 3, 57, 28, 58, 17, 50, 32, 74, 63, 76, 84, 65, 9, 62, 67, 48, 12, 8, 68, 31, 19, 36, 85, 98, 30, 91, 89, 66, 80, 75, 47, 4, 23, 60, 70, 87, 90, 13, 38, 56, 34, 46, 24, 41, 92, 37, 49, 73, 10, 94, 26, 42, 40, 33, 54, 86, 82, 72, 39, 2, 45, 78, 11, 1, 44, 69, 64]\n",
      "len(boards)=100\n",
      "(21, 16716)\n"
     ]
    }
   ],
   "source": [
    "part1('input/day4.txt')"
   ],
   "metadata": {
    "collapsed": false,
    "pycharm": {
     "name": "#%%\n"
    }
   }
  },
  {
   "cell_type": "markdown",
   "source": [
    "**Your puzzle answer was 16716.**\n",
    "\n",
    "### Part Two\n",
    "\n",
    "On the other hand, it might be wise to try a different strategy: <span title=\"That's 'cuz a submarine don't pull things' antennas out of their sockets when they lose. Giant squid are known to do that.\">let the giant squid win</span>.\n",
    "\n",
    "You aren't sure how many bingo boards a giant squid could play at once, so rather than waste time counting its arms, the safe thing to do is to _figure out which board will win last_ and choose that one. That way, no matter which boards it picks, it will win for sure.\n",
    "\n",
    "In the above example, the second board is the last to win, which happens after `13` is eventually called and its middle column is completely marked. If you were to keep playing until this point, the second board would have a sum of unmarked numbers equal to `148` for a final score of `148 * 13 = 1924`.\n",
    "\n",
    "Figure out which board will win last. _Once it wins, what would its final score be?_"
   ],
   "metadata": {
    "collapsed": false
   }
  },
  {
   "cell_type": "code",
   "execution_count": 3,
   "outputs": [
    {
     "name": "stdout",
     "output_type": "stream",
     "text": [
      "numbers=[83, 5, 71, 61, 88, 55, 95, 6, 0, 97, 20, 16, 27, 7, 79, 25, 81, 29, 22, 52, 43, 21, 53, 59, 99, 18, 35, 96, 51, 93, 14, 77, 15, 3, 57, 28, 58, 17, 50, 32, 74, 63, 76, 84, 65, 9, 62, 67, 48, 12, 8, 68, 31, 19, 36, 85, 98, 30, 91, 89, 66, 80, 75, 47, 4, 23, 60, 70, 87, 90, 13, 38, 56, 34, 46, 24, 41, 92, 37, 49, 73, 10, 94, 26, 42, 40, 33, 54, 86, 82, 72, 39, 2, 45, 78, 11, 1, 44, 69, 64]\n",
      "len(boards)=100\n",
      "(21, 16716)\n",
      "Answer= 4880\n"
     ]
    }
   ],
   "source": [
    "def part2(filename):\n",
    "    with open(filename) as f:\n",
    "        numbers = [int(n) for n in f.readline().strip().split(',')]\n",
    "        assert not f.readline().strip()\n",
    "        boards = []\n",
    "        while not boards or boards[-1] is not None:\n",
    "            boards.append(read_board(f))\n",
    "        boards.pop(-1)\n",
    "\n",
    "\n",
    "    print(f\"{numbers=}\")\n",
    "    print(f\"{len(boards)=}\")\n",
    "    scores = [mark(b, numbers) for b in boards]\n",
    "    winner = min(scores)\n",
    "    print(winner)\n",
    "\n",
    "    print(\"Answer=\",max(scores)[1])\n",
    "\n",
    "part2('input/day4.txt')"
   ],
   "metadata": {
    "collapsed": false,
    "pycharm": {
     "name": "#%%\n"
    }
   }
  },
  {
   "cell_type": "markdown",
   "source": [
    "**Your puzzle answer was 4880.**"
   ],
   "metadata": {
    "collapsed": false,
    "pycharm": {
     "name": "#%% md\n"
    }
   }
  },
  {
   "cell_type": "markdown",
   "source": [
    "<div class=\"alert alert-info\">\n",
    "In the original without a `part1()` function part 2 was literally just adding another print.\n",
    "</div>\n",
    "\n",
    "A lot of people seem to have done part 1 by taking each draw in turn and applying it to all of the boards until they\n",
    "find a winner. That makes part2 quite hard. I applied all the draws to each board in turn to find out how many\n",
    "turns it took and the score. That's less efficient as it does more work but by not optimising the search I lucked out\n",
    "and made part 2 trivial."
   ],
   "metadata": {
    "collapsed": false
   }
  }
 ],
 "metadata": {
  "kernelspec": {
   "display_name": "Python 3",
   "language": "python",
   "name": "python3"
  },
  "language_info": {
   "codemirror_mode": {
    "name": "ipython",
    "version": 2
   },
   "file_extension": ".py",
   "mimetype": "text/x-python",
   "name": "python",
   "nbconvert_exporter": "python",
   "pygments_lexer": "ipython2",
   "version": "2.7.6"
  }
 },
 "nbformat": 4,
 "nbformat_minor": 0
}
