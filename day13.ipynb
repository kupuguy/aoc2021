{
 "cells": [
  {
   "cell_type": "markdown",
   "source": [
    "# Day 13: Transparent Origami\n",
    "\n",
    "[https://adventofcode.com/2021/day/13](https://adventofcode.com/2021/day/13)\n",
    "\n",
    "## Description\n",
    "\n",
    "### Part One\n",
    "\n",
    "You reach another volcanically active part of the cave. It would be nice if you could do some kind of thermal imaging so you could tell ahead of time which caves are too hot to safely enter.\n",
    "\n",
    "Fortunately, the submarine seems to be equipped with a thermal camera! When you activate it, you are greeted with:\n",
    "\n",
    "    Congratulations on your purchase! To activate this infrared thermal imaging\n",
    "    camera system, please enter the code found on page 1 of the manual.\n",
    "\n",
    "\n",
    "Apparently, the Elves have never used this feature. To your surprise, you manage to find the manual; as you go to open it, page 1 falls out. It's a large sheet of [transparent paper](https://en.wikipedia.org/wiki/Transparency_(projection))! The transparent paper is marked with random dots and includes instructions on how to fold it up (your puzzle input). For example:\n",
    "\n",
    "    6,10\n",
    "    0,14\n",
    "    9,10\n",
    "    0,3\n",
    "    10,4\n",
    "    4,11\n",
    "    6,0\n",
    "    6,12\n",
    "    4,1\n",
    "    0,13\n",
    "    10,12\n",
    "    3,4\n",
    "    3,0\n",
    "    8,4\n",
    "    1,10\n",
    "    2,14\n",
    "    8,10\n",
    "    9,0\n",
    "\n",
    "    fold along y=7\n",
    "    fold along x=5\n",
    "\n",
    "\n",
    "The first section is a list of dots on the transparent paper. `0,0` represents the top-left coordinate. The first value, `x`, increases to the right. The second value, `y`, increases downward. So, the coordinate `3,0` is to the right of `0,0`, and the coordinate `0,7` is below `0,0`. The coordinates in this example form the following pattern, where `#` is a dot on the paper and `.` is an empty, unmarked position:\n",
    "\n",
    "    ...#..#..#.\n",
    "    ....#......\n",
    "    ...........\n",
    "    #..........\n",
    "    ...#....#.#\n",
    "    ...........\n",
    "    ...........\n",
    "    ...........\n",
    "    ...........\n",
    "    ...........\n",
    "    .#....#.##.\n",
    "    ....#......\n",
    "    ......#...#\n",
    "    #..........\n",
    "    #.#........\n",
    "\n",
    "\n",
    "Then, there is a list of _fold instructions_. Each instruction indicates a line on the transparent paper and wants you to fold the paper _up_ (for horizontal `y=...` lines) or _left_ (for vertical `x=...` lines). In this example, the first fold instruction is `fold along y=7`, which designates the line formed by all of the positions where `y` is `7` (marked here with `-`):\n",
    "\n",
    "    ...#..#..#.\n",
    "    ....#......\n",
    "    ...........\n",
    "    #..........\n",
    "    ...#....#.#\n",
    "    ...........\n",
    "    ...........\n",
    "    -----------\n",
    "    ...........\n",
    "    ...........\n",
    "    .#....#.##.\n",
    "    ....#......\n",
    "    ......#...#\n",
    "    #..........\n",
    "    #.#........\n",
    "\n",
    "\n",
    "Because this is a horizontal line, fold the bottom half _up_. Some of the dots might end up overlapping after the fold is complete, but dots will never appear exactly on a fold line. The result of doing this fold looks like this:\n",
    "\n",
    "    #.##..#..#.\n",
    "    #...#......\n",
    "    ......#...#\n",
    "    #...#......\n",
    "    .#.#..#.###\n",
    "    ...........\n",
    "    ...........\n",
    "\n",
    "\n",
    "Now, only `17` dots are visible.\n",
    "\n",
    "Notice, for example, the two dots in the bottom left corner before the transparent paper is folded; after the fold is complete, those dots appear in the top left corner (at `0,0` and `0,1`). Because the paper is transparent, the dot just below them in the result (at `0,3`) remains visible, as it can be seen through the transparent paper.\n",
    "\n",
    "Also notice that some dots can end up _overlapping_; in this case, the dots merge together and become a single dot.\n",
    "\n",
    "The second fold instruction is `fold along x=5`, which indicates this line:\n",
    "\n",
    "    #.##.|#..#.\n",
    "    #...#|.....\n",
    "    .....|#...#\n",
    "    #...#|.....\n",
    "    .#.#.|#.###\n",
    "    .....|.....\n",
    "    .....|.....\n",
    "\n",
    "\n",
    "Because this is a vertical line, fold _left_:\n",
    "\n",
    "    #####\n",
    "    #...#\n",
    "    #...#\n",
    "    #...#\n",
    "    #####\n",
    "    .....\n",
    "    .....\n",
    "\n",
    "\n",
    "The instructions made a square!\n",
    "\n",
    "The transparent paper is pretty big, so for now, focus on just completing the first fold. After the first fold in the example above, _`17`_ dots are visible - dots that end up overlapping after the fold is completed count as a single dot.\n",
    "\n",
    "_How many dots are visible after completing just the first fold instruction on your transparent paper?_"
   ],
   "metadata": {
    "collapsed": false,
    "pycharm": {
     "name": "#%% md\n"
    }
   }
  },
  {
   "cell_type": "code",
   "execution_count": 1,
   "outputs": [
    {
     "data": {
      "text/plain": "part \u001B[1;36m1\u001B[0m \u001B[1;36m781\u001B[0m\n",
      "text/html": "<pre style=\"white-space:pre;overflow-x:auto;line-height:normal;font-family:Menlo,'DejaVu Sans Mono',consolas,'Courier New',monospace\">part <span style=\"color: #008080; text-decoration-color: #008080; font-weight: bold\">1</span> <span style=\"color: #008080; text-decoration-color: #008080; font-weight: bold\">781</span>\n</pre>\n"
     },
     "metadata": {},
     "output_type": "display_data"
    }
   ],
   "source": [
    "def load(filename: str):\n",
    "    coords = {}\n",
    "    folds = []\n",
    "    for line in open(filename):\n",
    "        if line.strip():\n",
    "            if line.startswith('fold along x='):\n",
    "                folds.append(['x', int(line.split('=')[-1])])\n",
    "            elif line.startswith('fold along y='):\n",
    "                folds.append(['y', int(line.split('=')[-1])])\n",
    "            else:\n",
    "                x,y=map(int, line.split(','))\n",
    "                coords[x,y]='#'\n",
    "    return coords, folds\n",
    "\n",
    "def fold_y(coords, fold_y):\n",
    "    for x,y in list(coords):\n",
    "        if y >= fold_y:\n",
    "            del coords[x,y]\n",
    "            coords[x, 2*fold_y-y] = '#'\n",
    "\n",
    "def fold_x(coords, fold_x):\n",
    "    for x,y in list(coords):\n",
    "        if x >= fold_x:\n",
    "            del coords[x,y]\n",
    "            coords[2*fold_x-x, y] = '#'\n",
    "\n",
    "def part1(filename):\n",
    "    coords, folds = load(filename)\n",
    "    xy, n = folds[0]\n",
    "    if xy=='x':\n",
    "        fold_x(coords, n)\n",
    "    else:\n",
    "        fold_y(coords, n)\n",
    "    return len(coords)\n",
    "\n",
    "assert part1('input/day13-test.txt')==17\n",
    "print(\"part 1\", part1('input/day13.txt'))"
   ],
   "metadata": {
    "collapsed": false,
    "pycharm": {
     "name": "#%%\n"
    }
   }
  },
  {
   "cell_type": "markdown",
   "source": [
    "**Your puzzle answer was 781.**\n",
    "\n",
    "### Part Two\n",
    "\n",
    "<span title=\"How can you fold it that many times? You tell me, I'm not the one folding it.\">Finish folding</span> the transparent paper according to the instructions. The manual says the code is always _eight capital letters_.\n",
    "\n",
    "_What code do you use to activate the infrared thermal imaging camera system?_"
   ],
   "metadata": {
    "collapsed": false
   }
  },
  {
   "cell_type": "code",
   "execution_count": 5,
   "metadata": {
    "collapsed": true
   },
   "outputs": [
    {
     "data": {
      "text/plain": "#####\n#   #\n#   #\n#   #\n#####\n",
      "text/html": "<pre style=\"white-space:pre;overflow-x:auto;line-height:normal;font-family:Menlo,'DejaVu Sans Mono',consolas,'Courier New',monospace\">#####\n#   #\n#   #\n#   #\n#####\n</pre>\n"
     },
     "metadata": {},
     "output_type": "display_data"
    },
    {
     "data": {
      "text/plain": "###  #### ###   ##   ##    ## ###  ### \n#  # #    #  # #  # #  #    # #  # #  #\n#  # ###  #  # #    #       # #  # ### \n###  #    ###  #    # ##    # ###  #  #\n#    #    # #  #  # #  # #  # #    #  #\n#    #### #  #  ##   ###  ##  #    ### \n",
      "text/html": "<pre style=\"white-space:pre;overflow-x:auto;line-height:normal;font-family:Menlo,'DejaVu Sans Mono',consolas,'Courier New',monospace\">###  #### ###   ##   ##    ## ###  ### \n#  # #    #  # #  # #  #    # #  # #  #\n#  # ###  #  # #    #       # #  # ### \n###  #    ###  #    # ##    # ###  #  #\n#    #    # #  #  # #  # #  # #    #  #\n#    #### #  #  ##   ###  ##  #    ### \n</pre>\n"
     },
     "metadata": {},
     "output_type": "display_data"
    },
    {
     "data": {
      "text/plain": "\u001B[1;36m99\u001B[0m\n",
      "text/html": "<pre style=\"white-space:pre;overflow-x:auto;line-height:normal;font-family:Menlo,'DejaVu Sans Mono',consolas,'Courier New',monospace\"><span style=\"color: #008080; text-decoration-color: #008080; font-weight: bold\">99</span>\n</pre>\n"
     },
     "metadata": {},
     "output_type": "display_data"
    }
   ],
   "source": [
    "def part2(filename):\n",
    "    coords, folds = load(filename)\n",
    "    for xy, n in folds:\n",
    "        if xy=='x':\n",
    "            fold_x(coords, n)\n",
    "        else:\n",
    "            fold_y(coords, n)\n",
    "    max_y = max(y for x,y in coords)\n",
    "    max_x = max(x for x,y in coords)\n",
    "\n",
    "    print('\\n'.join(\n",
    "        ''.join(coords.get((x,y), ' ') for x in range(max_x+1)) for y in range(max_y+1)))\n",
    "\n",
    "    return len(coords)\n",
    "\n",
    "part2('input/day13-test.txt')\n",
    "part2('input/day13.txt')"
   ]
  },
  {
   "cell_type": "markdown",
   "source": [
    "<div class=\"alert alert-info\">I had to change the print from the original code to get something legible in Jupyter.\n",
    "</div>\n",
    "\n",
    "**Your puzzle answer was PERCGJPB.**\n"
   ],
   "metadata": {
    "collapsed": false,
    "pycharm": {
     "name": "#%% md\n"
    }
   }
  }
 ],
 "metadata": {
  "kernelspec": {
   "display_name": "Python 3",
   "language": "python",
   "name": "python3"
  },
  "language_info": {
   "codemirror_mode": {
    "name": "ipython",
    "version": 2
   },
   "file_extension": ".py",
   "mimetype": "text/x-python",
   "name": "python",
   "nbconvert_exporter": "python",
   "pygments_lexer": "ipython2",
   "version": "2.7.6"
  }
 },
 "nbformat": 4,
 "nbformat_minor": 0
}