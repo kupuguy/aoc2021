{
 "cells": [
  {
   "cell_type": "markdown",
   "source": [
    "# Day 14: Extended Polymerization\n",
    "\n",
    "[https://adventofcode.com/2021/day/14](https://adventofcode.com/2021/day/14)\n",
    "\n",
    "## Description\n",
    "\n",
    "### Part One\n",
    "\n",
    "The incredible pressures at this depth are starting to put a strain on your submarine. The submarine has [polymerization](https://en.wikipedia.org/wiki/Polymerization) equipment that would produce suitable materials to reinforce the submarine, and the nearby volcanically-active caves should even have the necessary input elements in sufficient quantities.\n",
    "\n",
    "The submarine manual contains <span title=\"HO\n",
    "\n",
    "HO -> OH\">instructions</span> for finding the optimal polymer formula; specifically, it offers a _polymer template_ and a list of _pair insertion_ rules (your puzzle input). You just need to work out what polymer would result after repeating the pair insertion process a few times.\n",
    "\n",
    "For example:\n",
    "\n",
    "    NNCB\n",
    "\n",
    "    CH -> B\n",
    "    HH -> N\n",
    "    CB -> H\n",
    "    NH -> C\n",
    "    HB -> C\n",
    "    HC -> B\n",
    "    HN -> C\n",
    "    NN -> C\n",
    "    BH -> H\n",
    "    NC -> B\n",
    "    NB -> B\n",
    "    BN -> B\n",
    "    BB -> N\n",
    "    BC -> B\n",
    "    CC -> N\n",
    "    CN -> C\n",
    "\n",
    "\n",
    "The first line is the _polymer template_ - this is the starting point of the process.\n",
    "\n",
    "The following section defines the _pair insertion_ rules. A rule like `AB -> C` means that when elements `A` and `B` are immediately adjacent, element `C` should be inserted between them. These insertions all happen simultaneously.\n",
    "\n",
    "So, starting with the polymer template `NNCB`, the first step simultaneously considers all three pairs:\n",
    "\n",
    "*   The first pair (`NN`) matches the rule `NN -> C`, so element _`C`_ is inserted between the first `N` and the second `N`.\n",
    "*   The second pair (`NC`) matches the rule `NC -> B`, so element _`B`_ is inserted between the `N` and the `C`.\n",
    "*   The third pair (`CB`) matches the rule `CB -> H`, so element _`H`_ is inserted between the `C` and the `B`.\n",
    "\n",
    "Note that these pairs overlap: the second element of one pair is the first element of the next pair. Also, because all pairs are considered simultaneously, inserted elements are not considered to be part of a pair until the next step.\n",
    "\n",
    "After the first step of this process, the polymer becomes `NCNBCHB`.\n",
    "\n",
    "Here are the results of a few steps using the above rules:\n",
    "\n",
    "    Template:     NNCB\n",
    "    After step 1: NCNBCHB\n",
    "    After step 2: NBCCNBBBCBHCB\n",
    "    After step 3: NBBBCNCCNBBNBNBBCHBHHBCHB\n",
    "    After step 4: NBBNBNBBCCNBCNCCNBBNBBNBBBNBBNBBCBHCBHHNHCBBCBHCB\n",
    "\n",
    "\n",
    "This polymer grows quickly. After step 5, it has length 97; After step 10, it has length 3073. After step 10, `B` occurs 1749 times, `C` occurs 298 times, `H` occurs 161 times, and `N` occurs 865 times; taking the quantity of the most common element (`B`, 1749) and subtracting the quantity of the least common element (`H`, 161) produces `1749 - 161 = 1588`.\n",
    "\n",
    "Apply 10 steps of pair insertion to the polymer template and find the most and least common elements in the result. _What do you get if you take the quantity of the most common element and subtract the quantity of the least common element?_"
   ],
   "metadata": {
    "collapsed": false,
    "pycharm": {
     "name": "#%% md\n"
    }
   }
  },
  {
   "cell_type": "code",
   "execution_count": 1,
   "outputs": [
    {
     "data": {
      "text/plain": "\u001B[1;36m2740\u001B[0m\n",
      "text/html": "<pre style=\"white-space:pre;overflow-x:auto;line-height:normal;font-family:Menlo,'DejaVu Sans Mono',consolas,'Courier New',monospace\"><span style=\"color: #008080; text-decoration-color: #008080; font-weight: bold\">2740</span>\n</pre>\n"
     },
     "metadata": {},
     "output_type": "display_data"
    }
   ],
   "source": [
    "from itertools import pairwise\n",
    "from collections import Counter, defaultdict\n",
    "\n",
    "\n",
    "def load(filename):\n",
    "    with open(filename) as f:\n",
    "        template = f.readline().strip()\n",
    "        rules = {}\n",
    "        for line in f:\n",
    "            pair, _, insert = line.strip().partition(\" -> \")\n",
    "            if insert:\n",
    "                rules[pair[0], pair[1]] = pair[0] + insert\n",
    "    return template, rules\n",
    "\n",
    "\n",
    "test_data = load(\"input/day14-test.txt\")\n",
    "real_data = load(\"input/day14.txt\")\n",
    "\n",
    "\n",
    "def part1(data):\n",
    "    template, rules = data\n",
    "    for step in range(10):\n",
    "        template = \"\".join(\n",
    "            [rules.get(pair, pair[0]) for pair in pairwise(template)] + [template[-1]]\n",
    "        )\n",
    "\n",
    "    count = Counter(template).most_common()\n",
    "    return count[0][1] - count[-1][1]\n",
    "\n",
    "\n",
    "assert part1(test_data) == 1588\n",
    "print(part1(real_data))"
   ],
   "metadata": {
    "collapsed": false,
    "pycharm": {
     "name": "#%%\n"
    }
   }
  },
  {
   "cell_type": "markdown",
   "source": [
    "<div class=\"alert alert-info\">For part 1 the string is short enough to just manipulate the data as a string.\n",
    "</div>\n",
    "\n",
    "**Your puzzle answer was 2740.**\n",
    "\n",
    "### Part Two\n",
    "\n",
    "The resulting polymer isn't nearly strong enough to reinforce the submarine. You'll need to run more steps of the pair insertion process; a total of _40 steps_ should do it.\n",
    "\n",
    "In the above example, the most common element is `B` (occurring `2192039569602` times) and the least common element is `H` (occurring `3849876073` times); subtracting these produces _`2188189693529`_.\n",
    "\n",
    "Apply _40_ steps of pair insertion to the polymer template and find the most and least common elements in the result. _What do you get if you take the quantity of the most common element and subtract the quantity of the least common element?_"
   ],
   "metadata": {
    "collapsed": false,
    "pycharm": {
     "name": "#%% md\n"
    }
   }
  },
  {
   "cell_type": "code",
   "execution_count": 2,
   "metadata": {
    "collapsed": true
   },
   "outputs": [
    {
     "data": {
      "text/plain": "\u001B[1;36m2959788056211\u001B[0m\n",
      "text/html": "<pre style=\"white-space:pre;overflow-x:auto;line-height:normal;font-family:Menlo,'DejaVu Sans Mono',consolas,'Courier New',monospace\"><span style=\"color: #008080; text-decoration-color: #008080; font-weight: bold\">2959788056211</span>\n</pre>\n"
     },
     "metadata": {},
     "output_type": "display_data"
    }
   ],
   "source": [
    "def part2(data):\n",
    "    template, rules = data\n",
    "    rules = {k: v[1] for k, v in rules.items()}\n",
    "\n",
    "    pair_count = Counter(pairwise(template))\n",
    "    for step in range(40):\n",
    "        new_count = Counter()\n",
    "        for a, b in pair_count:\n",
    "            if (a, b) in rules:\n",
    "                c = rules[a, b]\n",
    "                new_count.update({(a, c): pair_count[a, b], (c, b): pair_count[a, b]})\n",
    "            else:\n",
    "                new_count[a, b] += pair_count[a, b]\n",
    "        pair_count = new_count\n",
    "\n",
    "    count = defaultdict(int)\n",
    "    for pair in pair_count:\n",
    "        count[pair[0]] += pair_count[pair]\n",
    "    count[template[-1]] += 1\n",
    "    counts = sorted(count.items(), key=lambda p: p[1], reverse=True)\n",
    "    return counts[0][1] - counts[-1][1]\n",
    "\n",
    "\n",
    "assert part2(test_data) == 2188189693529\n",
    "print(part2(real_data))"
   ]
  },
  {
   "cell_type": "markdown",
   "source": [
    "<div class=\"alert alert-info\">We can't just calculate the resulting polymer here, so instead each step counts how many\n",
    "of each pair we get in the next generation. Finally we count the occurences of the first letter of each pair and add on\n",
    "the final letter (which never changes).\n",
    "</div>\n",
    "\n",
    "**Your puzzle answer was 2959788056211.**"
   ],
   "metadata": {
    "collapsed": false
   }
  }
 ],
 "metadata": {
  "kernelspec": {
   "display_name": "Python 3",
   "language": "python",
   "name": "python3"
  },
  "language_info": {
   "codemirror_mode": {
    "name": "ipython",
    "version": 2
   },
   "file_extension": ".py",
   "mimetype": "text/x-python",
   "name": "python",
   "nbconvert_exporter": "python",
   "pygments_lexer": "ipython2",
   "version": "2.7.6"
  }
 },
 "nbformat": 4,
 "nbformat_minor": 0
}