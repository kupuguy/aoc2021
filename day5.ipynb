{
 "cells": [
  {
   "cell_type": "markdown",
   "metadata": {
    "collapsed": true,
    "pycharm": {
     "name": "#%% md\n"
    }
   },
   "source": [
    "# Day 5: Hydrothermal Venture\n",
    "\n",
    "[https://adventofcode.com/2021/day/5](https://adventofcode.com/2021/day/5)\n",
    "\n",
    "## Description\n",
    "\n",
    "### Part One\n",
    "\n",
    "You come across a field of [hydrothermal vents](https://en.wikipedia.org/wiki/Hydrothermal_vent) on the ocean floor! These vents constantly produce large, opaque clouds, so it would be best to avoid them if possible.\n",
    "\n",
    "They tend to form in _lines_; the submarine helpfully produces a list of nearby <span title=\"Maybe they're Bresenham vents.\">lines of vents</span> (your puzzle input) for you to review. For example:\n",
    "\n",
    "    0,9 -> 5,9\n",
    "    8,0 -> 0,8\n",
    "    9,4 -> 3,4\n",
    "    2,2 -> 2,1\n",
    "    7,0 -> 7,4\n",
    "    6,4 -> 2,0\n",
    "    0,9 -> 2,9\n",
    "    3,4 -> 1,4\n",
    "    0,0 -> 8,8\n",
    "    5,5 -> 8,2\n",
    "\n",
    "\n",
    "Each line of vents is given as a line segment in the format `x1,y1 -> x2,y2` where `x1`,`y1` are the coordinates of one end the line segment and `x2`,`y2` are the coordinates of the other end. These line segments include the points at both ends. In other words:\n",
    "\n",
    "*   An entry like `1,1 -> 1,3` covers points `1,1`, `1,2`, and `1,3`.\n",
    "*   An entry like `9,7 -> 7,7` covers points `9,7`, `8,7`, and `7,7`.\n",
    "\n",
    "For now, _only consider horizontal and vertical lines_: lines where either `x1 = x2` or `y1 = y2`.\n",
    "\n",
    "So, the horizontal and vertical lines from the above list would produce the following diagram:\n",
    "\n",
    "    .......1..\n",
    "    ..1....1..\n",
    "    ..1....1..\n",
    "    .......1..\n",
    "    .112111211\n",
    "    ..........\n",
    "    ..........\n",
    "    ..........\n",
    "    ..........\n",
    "    222111....\n",
    "\n",
    "\n",
    "In this diagram, the top left corner is `0,0` and the bottom right corner is `9,9`. Each position is shown as _the number of lines which cover that point_ or `.` if no line covers that point. The top-left pair of `1`s, for example, comes from `2,2 -> 2,1`; the very bottom row is formed by the overlapping lines `0,9 -> 5,9` and `0,9 -> 2,9`.\n",
    "\n",
    "To avoid the most dangerous areas, you need to determine _the number of points where at least two lines overlap_. In the above example, this is anywhere in the diagram with a `2` or larger - a total of _`5`_ points.\n",
    "\n",
    "Consider only horizontal and vertical lines. _At how many points do at least two lines overlap?_"
   ]
  },
  {
   "cell_type": "code",
   "execution_count": 2,
   "outputs": [
    {
     "name": "stdout",
     "output_type": "stream",
     "text": [
      "5\n"
     ]
    }
   ],
   "source": [
    "from dataclasses import dataclass\n",
    "from collections import defaultdict\n",
    "# from rich import print\n",
    "@dataclass\n",
    "class Point:\n",
    "    x: int\n",
    "    y: int\n",
    "\n",
    "@dataclass\n",
    "class Vent:\n",
    "    start: Point\n",
    "    end: Point\n",
    "\n",
    "lines = open('input/day5-test.txt').readlines()\n",
    "\n",
    "\n",
    "def parse(lines):\n",
    "    for line in lines:\n",
    "        start, _, end = line.strip().partition('->')\n",
    "        if not end:\n",
    "            continue\n",
    "        startx, starty = start.strip().split(',')\n",
    "        endx, endy = end.strip().split(',')\n",
    "        yield Vent(Point(int(startx), int(starty)), Point(int(endx), int(endy)))\n",
    "\n",
    "def part1():\n",
    "    data = list(parse(lines))\n",
    "\n",
    "    hv = [p for p in data if p.start.x==p.end.x or p.start.y==p.end.y]\n",
    "    # print(hv)\n",
    "    points = defaultdict(int)\n",
    "\n",
    "    for vent in data:\n",
    "        if vent.start.x==vent.end.x:\n",
    "            for i in range(min(vent.start.y, vent.end.y), max(vent.start.y, vent.end.y)+1):\n",
    "                points[vent.start.x, i] += 1\n",
    "        elif vent.start.y==vent.end.y:\n",
    "            for i in range(min(vent.start.x, vent.end.x), max(vent.start.x, vent.end.x)+1):\n",
    "                points[i, vent.start.y] += 1\n",
    "\n",
    "    # print(points)\n",
    "    print(sum(1 for p in points.values() if p > 1))\n",
    "\n",
    "part1()"
   ],
   "metadata": {
    "collapsed": false,
    "pycharm": {
     "name": "#%%\n"
    }
   }
  },
  {
   "cell_type": "markdown",
   "source": [
    "<div class=\"alert alert-block alert-info\">\n",
    "Again cleaned up into a function where the original I just edited the code.\n",
    "</div>"
   ],
   "metadata": {
    "collapsed": false
   }
  },
  {
   "cell_type": "code",
   "execution_count": 3,
   "outputs": [
    {
     "name": "stdout",
     "output_type": "stream",
     "text": [
      "6687\n"
     ]
    }
   ],
   "source": [
    "lines = open('input/day5.txt').readlines()\n",
    "\n",
    "part1()"
   ],
   "metadata": {
    "collapsed": false,
    "pycharm": {
     "name": "#%%\n"
    }
   }
  },
  {
   "cell_type": "markdown",
   "source": [
    "**Your puzzle answer was 6687.**\n",
    "\n",
    "### Part Two\n",
    "\n",
    "Unfortunately, considering only horizontal and vertical lines doesn't give you the full picture; you need to also consider _diagonal lines_.\n",
    "\n",
    "Because of the limits of the hydrothermal vent mapping system, the lines in your list will only ever be horizontal, vertical, or a diagonal line at exactly 45 degrees. In other words:\n",
    "\n",
    "*   An entry like `1,1 -> 3,3` covers points `1,1`, `2,2`, and `3,3`.\n",
    "*   An entry like `9,7 -> 7,9` covers points `9,7`, `8,8`, and `7,9`.\n",
    "\n",
    "Considering all lines from the above example would now produce the following diagram:\n",
    "\n",
    "    1.1....11.\n",
    "    .111...2..\n",
    "    ..2.1.111.\n",
    "    ...1.2.2..\n",
    "    .112313211\n",
    "    ...1.2....\n",
    "    ..1...1...\n",
    "    .1.....1..\n",
    "    1.......1.\n",
    "    222111....\n",
    "\n",
    "\n",
    "You still need to determine _the number of points where at least two lines overlap_. In the above example, this is still anywhere in the diagram with a `2` or larger - now a total of _`12`_ points.\n",
    "\n",
    "Consider all of the lines. _At how many points do at least two lines overlap?_"
   ],
   "metadata": {
    "collapsed": false
   }
  },
  {
   "cell_type": "code",
   "execution_count": 4,
   "outputs": [
    {
     "name": "stdout",
     "output_type": "stream",
     "text": [
      "19851\n"
     ]
    }
   ],
   "source": [
    "from dataclasses import dataclass\n",
    "from collections import defaultdict\n",
    "# from rich import print\n",
    "@dataclass\n",
    "class Point:\n",
    "    x: int\n",
    "    y: int\n",
    "\n",
    "@dataclass\n",
    "class Vent:\n",
    "    start: Point\n",
    "    end: Point\n",
    "\n",
    "lines = open('input/day5.txt').readlines()\n",
    "\n",
    "\n",
    "def parse(lines):\n",
    "    for line in lines:\n",
    "        start, _, end = line.strip().partition('->')\n",
    "        if not end:\n",
    "            continue\n",
    "        startx, starty = start.strip().split(',')\n",
    "        endx, endy = end.strip().split(',')\n",
    "        yield Vent(Point(int(startx), int(starty)), Point(int(endx), int(endy)))\n",
    "\n",
    "def part2():\n",
    "    data = list(parse(lines))\n",
    "\n",
    "    hv = [p for p in data if p.start.x==p.end.x or p.start.y==p.end.y]\n",
    "    # print(hv)\n",
    "    points = defaultdict(int)\n",
    "\n",
    "    for vent in data:\n",
    "        if vent.start.x==vent.end.x:\n",
    "            for i in range(min(vent.start.y, vent.end.y), max(vent.start.y, vent.end.y)+1):\n",
    "                points[vent.start.x, i] += 1\n",
    "        elif vent.start.y==vent.end.y:\n",
    "            for i in range(min(vent.start.x, vent.end.x), max(vent.start.x, vent.end.x)+1):\n",
    "                points[i, vent.start.y] += 1\n",
    "        else:\n",
    "            #print(vent)\n",
    "            if vent.start.x < vent.end.x:\n",
    "                xr = range(vent.start.x, vent.end.x + 1)\n",
    "            else:\n",
    "                xr = range(vent.start.x, vent.end.x - 1, -1)\n",
    "            if vent.start.y < vent.end.y:\n",
    "                yr = range(vent.start.y, vent.end.y + 1)\n",
    "            else:\n",
    "                yr = range(vent.start.y, vent.end.y - 1, -1)\n",
    "\n",
    "            #print(xr, yr)\n",
    "            for x,y in zip(xr, yr):\n",
    "                points[x, y] += 1\n",
    "\n",
    "    # print(points)\n",
    "    print(sum(1 for p in points.values() if p > 1))\n",
    "\n",
    "part2()"
   ],
   "metadata": {
    "collapsed": false,
    "pycharm": {
     "name": "#%%\n"
    }
   }
  },
  {
   "cell_type": "markdown",
   "source": [
    "**Your puzzle answer was 19851.**"
   ],
   "metadata": {
    "collapsed": false,
    "pycharm": {
     "name": "#%% md\n"
    }
   }
  },
  {
   "cell_type": "markdown",
   "source": [
    "<div class=\"alert alert-block alert-info\">\n",
    "The only difference is the `else` but there are just so many ways I could write this code better. No matter, it works.\n",
    "</div>"
   ],
   "metadata": {
    "collapsed": false
   }
  }
 ],
 "metadata": {
  "kernelspec": {
   "display_name": "Python 3",
   "language": "python",
   "name": "python3"
  },
  "language_info": {
   "codemirror_mode": {
    "name": "ipython",
    "version": 2
   },
   "file_extension": ".py",
   "mimetype": "text/x-python",
   "name": "python",
   "nbconvert_exporter": "python",
   "pygments_lexer": "ipython2",
   "version": "2.7.6"
  }
 },
 "nbformat": 4,
 "nbformat_minor": 0
}