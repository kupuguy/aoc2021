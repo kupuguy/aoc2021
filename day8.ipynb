{
 "cells": [
  {
   "cell_type": "markdown",
   "source": [
    "# Day 8: Seven Segment Search\n",
    "\n",
    "[https://adventofcode.com/2021/day/8](https://adventofcode.com/2021/day/8)\n",
    "\n",
    "## Description\n",
    "\n",
    "### Part One\n",
    "\n",
    "You barely reach the safety of the cave when the whale smashes into the cave mouth, collapsing it. Sensors indicate another exit to this cave at a much greater depth, so you have no choice but to press on.\n",
    "\n",
    "As your submarine slowly makes its way through the cave system, you notice that the four-digit [seven-segment displays](https://en.wikipedia.org/wiki/Seven-segment_display) in your submarine are malfunctioning; <span title=\"Yes, just the four-digit seven-segment ones. Whole batch must have been faulty.\">they must have been damaged</span> during the escape. You'll be in a lot of trouble without them, so you'd better figure out what's wrong.\n",
    "\n",
    "Each digit of a seven-segment display is rendered by turning on or off any of seven segments named `a` through `g`:\n",
    "\n",
    "      0:      1:      2:      3:      4:\n",
    "     aaaa    ....    aaaa    aaaa    ....\n",
    "    b    c  .    c  .    c  .    c  b    c\n",
    "    b    c  .    c  .    c  .    c  b    c\n",
    "     ....    ....    dddd    dddd    dddd\n",
    "    e    f  .    f  e    .  .    f  .    f\n",
    "    e    f  .    f  e    .  .    f  .    f\n",
    "     gggg    ....    gggg    gggg    ....\n",
    "\n",
    "      5:      6:      7:      8:      9:\n",
    "     aaaa    aaaa    aaaa    aaaa    aaaa\n",
    "    b    .  b    .  .    c  b    c  b    c\n",
    "    b    .  b    .  .    c  b    c  b    c\n",
    "     dddd    dddd    ....    dddd    dddd\n",
    "    .    f  e    f  .    f  e    f  .    f\n",
    "    .    f  e    f  .    f  e    f  .    f\n",
    "     gggg    gggg    ....    gggg    gggg\n",
    "\n",
    "\n",
    "So, to render a `1`, only segments `c` and `f` would be turned on; the rest would be off. To render a `7`, only segments `a`, `c`, and `f` would be turned on.\n",
    "\n",
    "The problem is that the signals which control the segments have been mixed up on each display. The submarine is still trying to display numbers by producing output on signal wires `a` through `g`, but those wires are connected to segments _randomly_. Worse, the wire/segment connections are mixed up separately for each four-digit display! (All of the digits _within_ a display use the same connections, though.)\n",
    "\n",
    "So, you might know that only signal wires `b` and `g` are turned on, but that doesn't mean _segments_ `b` and `g` are turned on: the only digit that uses two segments is `1`, so it must mean segments `c` and `f` are meant to be on. With just that information, you still can't tell which wire (`b`/`g`) goes to which segment (`c`/`f`). For that, you'll need to collect more information.\n",
    "\n",
    "For each display, you watch the changing signals for a while, make a note of _all ten unique signal patterns_ you see, and then write down a single _four digit output value_ (your puzzle input). Using the signal patterns, you should be able to work out which pattern corresponds to which digit.\n",
    "\n",
    "For example, here is what you might see in a single entry in your notes:\n",
    "\n",
    "    acedgfb cdfbe gcdfa fbcad dab cefabd cdfgeb eafb cagedb ab |\n",
    "    cdfeb fcadb cdfeb cdbaf\n",
    "\n",
    "(The entry is wrapped here to two lines so it fits; in your notes, it will all be on a single line.)\n",
    "\n",
    "Each entry consists of ten _unique signal patterns_, a `|` delimiter, and finally the _four digit output value_. Within an entry, the same wire/segment connections are used (but you don't know what the connections actually are). The unique signal patterns correspond to the ten different ways the submarine tries to render a digit using the current wire/segment connections. Because `7` is the only digit that uses three segments, `dab` in the above example means that to render a `7`, signal lines `d`, `a`, and `b` are on. Because `4` is the only digit that uses four segments, `eafb` means that to render a `4`, signal lines `e`, `a`, `f`, and `b` are on.\n",
    "\n",
    "Using this information, you should be able to work out which combination of signal wires corresponds to each of the ten digits. Then, you can decode the four digit output value. Unfortunately, in the above example, all of the digits in the output value (`cdfeb fcadb cdfeb cdbaf`) use five segments and are more difficult to deduce.\n",
    "\n",
    "For now, _focus on the easy digits_. Consider this larger example:\n",
    "\n",
    "    be cfbegad cbdgef fgaecd cgeb fdcge agebfd fecdb fabcd edb |\n",
    "    fdgacbe cefdb cefbgd gcbe\n",
    "    edbfga begcd cbg gc gcadebf fbgde acbgfd abcde gfcbed gfec |\n",
    "    fcgedb cgb dgebacf gc\n",
    "    fgaebd cg bdaec gdafb agbcfd gdcbef bgcad gfac gcb cdgabef |\n",
    "    cg cg fdcagb cbg\n",
    "    fbegcd cbd adcefb dageb afcb bc aefdc ecdab fgdeca fcdbega |\n",
    "    efabcd cedba gadfec cb\n",
    "    aecbfdg fbg gf bafeg dbefa fcge gcbea fcaegb dgceab fcbdga |\n",
    "    gecf egdcabf bgf bfgea\n",
    "    fgeab ca afcebg bdacfeg cfaedg gcfdb baec bfadeg bafgc acf |\n",
    "    gebdcfa ecba ca fadegcb\n",
    "    dbcfg fgd bdegcaf fgec aegbdf ecdfab fbedc dacgb gdcebf gf |\n",
    "    cefg dcbef fcge gbcadfe\n",
    "    bdfegc cbegaf gecbf dfcage bdacg ed bedf ced adcbefg gebcd |\n",
    "    ed bcgafe cdgba cbgef\n",
    "    egadfb cdbfeg cegd fecab cgb gbdefca cg fgcdab egfdb bfceg |\n",
    "    gbdfcae bgc cg cgb\n",
    "    gcafb gcf dcaebfg ecagb gf abcdeg gaef cafbge fdbac fegbdc |\n",
    "    fgae cfgab fg bagce\n",
    "\n",
    "\n",
    "Because the digits `1`, `4`, `7`, and `8` each use a unique number of segments, you should be able to tell which combinations of signals correspond to those digits. Counting _only digits in the output values_ (the part after `|` on each line), in the above example, there are _`26`_ instances of digits that use a unique number of segments (highlighted above).\n",
    "\n",
    "_In the output values, how many times do digits `1`, `4`, `7`, or `8` appear?_"
   ],
   "metadata": {
    "collapsed": false,
    "pycharm": {
     "name": "#%% md\n"
    }
   }
  },
  {
   "cell_type": "code",
   "execution_count": 2,
   "outputs": [
    {
     "name": "stdout",
     "output_type": "stream",
     "text": [
      "input/day8-test.txt 26\n",
      "input/day8.txt 476\n"
     ]
    }
   ],
   "source": [
    "def part1(filename):\n",
    "    lines = [line.strip() for line in open(filename) if line.strip()]\n",
    "    parts = [line.partition(\" | \") for line in lines]\n",
    "    # print(parts)\n",
    "    data = [part.split() for _, _, part in parts]\n",
    "\n",
    "    count = sum(sum(len(d) in (2, 3, 4, 7) for d in row) for row in data)\n",
    "    print(filename, count)\n",
    "\n",
    "\n",
    "part1(\"input/day8-test.txt\")\n",
    "part1(\"input/day8.txt\")"
   ],
   "metadata": {
    "collapsed": false,
    "pycharm": {
     "name": "#%%\n"
    }
   }
  },
  {
   "cell_type": "markdown",
   "source": [
    "<div class=\"alert alert-info\">Sheesh, this one sounds a bit harder than any we've had so far. I structured this as\n",
    "part1/part2 functions so less editing to put into a notebook.\n",
    "</div>"
   ],
   "metadata": {
    "collapsed": false,
    "pycharm": {
     "name": "#%% md\n"
    }
   }
  },
  {
   "cell_type": "markdown",
   "source": [
    "**Your puzzle answer was 476.**\n",
    "\n",
    "### Part Two\n",
    "\n",
    "Through a little deduction, you should now be able to determine the remaining digits. Consider again the first example above:\n",
    "\n",
    "    acedgfb cdfbe gcdfa fbcad dab cefabd cdfgeb eafb cagedb ab |\n",
    "    cdfeb fcadb cdfeb cdbaf\n",
    "\n",
    "After some careful analysis, the mapping between signal wires and segments only make sense in the following configuration:\n",
    "\n",
    "     dddd\n",
    "    e    a\n",
    "    e    a\n",
    "     ffff\n",
    "    g    b\n",
    "    g    b\n",
    "     cccc\n",
    "\n",
    "\n",
    "So, the unique signal patterns would correspond to the following digits:\n",
    "\n",
    "*   `acedgfb`: `8`\n",
    "*   `cdfbe`: `5`\n",
    "*   `gcdfa`: `2`\n",
    "*   `fbcad`: `3`\n",
    "*   `dab`: `7`\n",
    "*   `cefabd`: `9`\n",
    "*   `cdfgeb`: `6`\n",
    "*   `eafb`: `4`\n",
    "*   `cagedb`: `0`\n",
    "*   `ab`: `1`\n",
    "\n",
    "Then, the four digits of the output value can be decoded:\n",
    "\n",
    "*   `cdfeb`: _`5`_\n",
    "*   `fcadb`: _`3`_\n",
    "*   `cdfeb`: _`5`_\n",
    "*   `cdbaf`: _`3`_\n",
    "\n",
    "Therefore, the output value for this entry is _`5353`_.\n",
    "\n",
    "Following this same process for each entry in the second, larger example above, the output value of each entry can be determined:\n",
    "\n",
    "*   `fdgacbe cefdb cefbgd gcbe`: `8394`\n",
    "*   `fcgedb cgb dgebacf gc`: `9781`\n",
    "*   `cg cg fdcagb cbg`: `1197`\n",
    "*   `efabcd cedba gadfec cb`: `9361`\n",
    "*   `gecf egdcabf bgf bfgea`: `4873`\n",
    "*   `gebdcfa ecba ca fadegcb`: `8418`\n",
    "*   `cefg dcbef fcge gbcadfe`: `4548`\n",
    "*   `ed bcgafe cdgba cbgef`: `1625`\n",
    "*   `gbdfcae bgc cg cgb`: `8717`\n",
    "*   `fgae cfgab fg bagce`: `4315`\n",
    "\n",
    "Adding all of the output values in this larger example produces _`61229`_.\n",
    "\n",
    "For each entry, determine all of the wire/segment connections and decode the four-digit output values. _What do you get if you add up all of the output values?_"
   ],
   "metadata": {
    "collapsed": false,
    "pycharm": {
     "name": "#%% md\n"
    }
   }
  },
  {
   "cell_type": "code",
   "execution_count": 3,
   "metadata": {
    "collapsed": true
   },
   "outputs": [],
   "source": [
    "digits = {\n",
    "    1: \"cf\",\n",
    "    7: \"acf\",\n",
    "    4: \"bcdf\",\n",
    "    2: \"acdeg\",\n",
    "    3: \"acdfg\",\n",
    "    5: \"abdfg\",\n",
    "    6: \"abdefg\",\n",
    "    9: \"abcdfg\",\n",
    "    0: \"abcefg\",\n",
    "    8: \"abcdefg\",\n",
    "}"
   ]
  },
  {
   "cell_type": "markdown",
   "source": [
    "<div class=\"alert alert-info\">Started with this dict, though I wasn't yet sure how I would use it. In hindsight I\n",
    "should have just made those strings sets.</div>"
   ],
   "metadata": {
    "collapsed": false
   }
  },
  {
   "cell_type": "code",
   "execution_count": 4,
   "outputs": [],
   "source": [
    "\n",
    "def decode(patterns, values):\n",
    "    known = {}\n",
    "    for p in patterns:\n",
    "        if len(p) == 2:\n",
    "            known[1] = set(p)\n",
    "        if len(p) == 3:\n",
    "            known[7] = set(p)\n",
    "        if len(p) == 4:\n",
    "            known[4] = set(p)\n",
    "        if len(p) == 7:\n",
    "            known[8] = set(p)\n",
    "    for p in patterns:\n",
    "        if len(p) == 6:\n",
    "            if len(set(p).intersection(known[1])) == 1:\n",
    "                known[6] = set(p)\n",
    "            elif len(set(p).intersection(known[4])) == 4:\n",
    "                known[9] = set(p)\n",
    "            else:\n",
    "                known[0] = set(p)\n",
    "    for p in patterns:\n",
    "        if len(p) == 5:\n",
    "            if len(set(p).intersection(known[1])) == 2:\n",
    "                known[3] = set(p)\n",
    "            elif len(set(p).intersection(known[6])) == 5:\n",
    "                known[5] = set(p)\n",
    "            else:\n",
    "                known[2] = set(p)\n",
    "    # print(known)\n",
    "    decoded = []\n",
    "    for v in values:\n",
    "        for k in known:\n",
    "            if known[k] == set(v):\n",
    "                decoded.append(k)\n",
    "    # print(decoded)\n",
    "    assert len(decoded) == 4\n",
    "    return decoded[0] * 1000 + decoded[1] * 100 + decoded[2] * 10 + decoded[3]"
   ],
   "metadata": {
    "collapsed": false,
    "pycharm": {
     "name": "#%%\n"
    }
   }
  },
  {
   "cell_type": "markdown",
   "source": [
    "<div class=\"alert alert-info\">Set up a dict of known sets, 1, 7, 4, and 8 are the easy ones,\n",
    "then the 6 segment values can be extracted from unique intersections with 1 and 4, and the 5 segment\n",
    "values have unique intersections with 1 and 6. Finally 'known' maps things the wrong way so I have nested\n",
    "loops when I could have created a segment to digit mapping which would have been easier.\n",
    "</div>"
   ],
   "metadata": {
    "collapsed": false
   }
  },
  {
   "cell_type": "code",
   "execution_count": 5,
   "outputs": [
    {
     "name": "stdout",
     "output_type": "stream",
     "text": [
      "5353\n"
     ]
    }
   ],
   "source": [
    "def part2(filename):\n",
    "    lines = [line.strip() for line in open(filename) if line.strip()]\n",
    "    parts = [line.partition(\" | \") for line in lines]\n",
    "    # print(parts)\n",
    "    data = [(patterns.split(), values.split()) for patterns, _, values in parts]\n",
    "\n",
    "    real = [decode(p, v) for p, v in data]\n",
    "    print(filename, sum(real))\n",
    "\n",
    "\n",
    "print(\n",
    "    decode(\n",
    "        \"acedgfb cdfbe gcdfa fbcad dab cefabd cdfgeb eafb cagedb ab\".split(),\n",
    "        \"cdfeb fcadb cdfeb cdbaf\".split(),\n",
    "    )\n",
    ")"
   ],
   "metadata": {
    "collapsed": false,
    "pycharm": {
     "name": "#%%\n"
    }
   }
  },
  {
   "cell_type": "markdown",
   "source": [
    "<div class=\"alert alert-info\">Very similar to part 1 now, parse the input then use the decode function\n",
    "to get the real values.</div>"
   ],
   "metadata": {
    "collapsed": false
   }
  },
  {
   "cell_type": "code",
   "execution_count": 6,
   "outputs": [
    {
     "name": "stdout",
     "output_type": "stream",
     "text": [
      "input/day8-test.txt 61229\n",
      "input/day8.txt 1011823\n"
     ]
    }
   ],
   "source": [
    "part2(\"input/day8-test.txt\")\n",
    "part2(\"input/day8.txt\")"
   ],
   "metadata": {
    "collapsed": false,
    "pycharm": {
     "name": "#%%\n"
    }
   }
  },
  {
   "cell_type": "markdown",
   "source": [
    "**Your puzzle answer was 1011823.**"
   ],
   "metadata": {
    "collapsed": false,
    "pycharm": {
     "name": "#%% md\n"
    }
   }
  },
  {
   "cell_type": "markdown",
   "source": [
    "<div class=\"alert alert-info\">Done.</div>"
   ],
   "metadata": {
    "collapsed": false
   }
  },
  {
   "cell_type": "code",
   "execution_count": 6,
   "outputs": [],
   "source": [],
   "metadata": {
    "collapsed": false,
    "pycharm": {
     "name": "#%%\n"
    }
   }
  }
 ],
 "metadata": {
  "kernelspec": {
   "display_name": "Python 3",
   "language": "python",
   "name": "python3"
  },
  "language_info": {
   "codemirror_mode": {
    "name": "ipython",
    "version": 2
   },
   "file_extension": ".py",
   "mimetype": "text/x-python",
   "name": "python",
   "nbconvert_exporter": "python",
   "pygments_lexer": "ipython2",
   "version": "2.7.6"
  }
 },
 "nbformat": 4,
 "nbformat_minor": 0
}