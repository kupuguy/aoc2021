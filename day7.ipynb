{
 "cells": [
  {
   "cell_type": "markdown",
   "metadata": {
    "collapsed": true,
    "pycharm": {
     "name": "#%% md\n"
    }
   },
   "source": [
    "# Day 7: The Treachery of Whales\n",
    "\n",
    "[https://adventofcode.com/2021/day/7](https://adventofcode.com/2021/day/7)\n",
    "\n",
    "## Description\n",
    "\n",
    "### Part One\n",
    "\n",
    "A giant [whale](https://en.wikipedia.org/wiki/Sperm_whale) has decided your submarine is its next meal, and it's much faster than you are. There's nowhere to run!\n",
    "\n",
    "Suddenly, a swarm of crabs (each in its own tiny submarine - it's too deep for them otherwise) zooms in to rescue you! They seem to be preparing to blast a hole in the ocean floor; sensors indicate a _massive underground cave system_ just beyond where they're aiming!\n",
    "\n",
    "The crab submarines all need to be aligned before they'll have enough power to blast a large enough hole for your submarine to get through. However, it doesn't look like they'll be aligned before the whale catches you! Maybe you can help?\n",
    "\n",
    "There's one major catch - crab submarines can only move horizontally.\n",
    "\n",
    "You quickly make a list of _the horizontal position of each crab_ (your puzzle input). Crab submarines have limited fuel, so you need to find a way to make all of their horizontal positions match while requiring them to spend as little fuel as possible.\n",
    "\n",
    "For example, consider the following horizontal positions:\n",
    "\n",
    "    16,1,2,0,4,2,7,1,2,14\n",
    "\n",
    "This means there's a crab with horizontal position `16`, a crab with horizontal position `1`, and so on.\n",
    "\n",
    "Each change of 1 step in horizontal position of a single crab costs 1 fuel. You could choose any horizontal position to align them all on, but the one that costs the least fuel is horizontal position `2`:\n",
    "\n",
    "*   Move from `16` to `2`: `14` fuel\n",
    "*   Move from `1` to `2`: `1` fuel\n",
    "*   Move from `2` to `2`: `0` fuel\n",
    "*   Move from `0` to `2`: `2` fuel\n",
    "*   Move from `4` to `2`: `2` fuel\n",
    "*   Move from `2` to `2`: `0` fuel\n",
    "*   Move from `7` to `2`: `5` fuel\n",
    "*   Move from `1` to `2`: `1` fuel\n",
    "*   Move from `2` to `2`: `0` fuel\n",
    "*   Move from `14` to `2`: `12` fuel\n",
    "\n",
    "This costs a total of _`37`_ fuel. This is the cheapest possible outcome; more expensive outcomes include aligning at position `1` (`41` fuel), position `3` (`39` fuel), or position `10` (`71` fuel).\n",
    "\n",
    "Determine the horizontal position that the crabs can align to using the least fuel possible. _How much fuel must they spend to align to that position?_"
   ]
  },
  {
   "cell_type": "code",
   "execution_count": 1,
   "outputs": [
    {
     "name": "stdout",
     "output_type": "stream",
     "text": [
      "37\n"
     ]
    }
   ],
   "source": [
    "input = \"16,1,2,0,4,2,7,1,2,14\"\n",
    "data = [int(n) for n in input.split(',')]\n",
    "\n",
    "def cost(values, target):\n",
    "    return sum(abs(v-target) for v in values)\n",
    "\n",
    "print(min(cost(data, n) for n in range(max(data))))"
   ],
   "metadata": {
    "collapsed": false,
    "pycharm": {
     "name": "#%%\n"
    }
   }
  },
  {
   "cell_type": "markdown",
   "source": [
    "<div class=\"alert alert-block alert-info\">\n",
    "Brute force sounds like it might be a bad idea here but in fact it still takes just a fraction of a second. A better\n",
    "solution is to realise the answer will be the cost at the median value, but I didn't do that.\n",
    "</div>"
   ],
   "metadata": {
    "collapsed": false
   }
  },
  {
   "cell_type": "code",
   "execution_count": 3,
   "outputs": [
    {
     "name": "stdout",
     "output_type": "stream",
     "text": [
      "329389\n"
     ]
    }
   ],
   "source": [
    "input=open('input/day7.txt').read().strip()\n",
    "data = [int(n) for n in input.split(',')]\n",
    "print(min(cost(data, n) for n in range(max(data))))"
   ],
   "metadata": {
    "collapsed": false,
    "pycharm": {
     "name": "#%%\n"
    }
   }
  },
  {
   "cell_type": "markdown",
   "source": [
    "**Your puzzle answer was 329389.**"
   ],
   "metadata": {
    "collapsed": false
   }
  },
  {
   "cell_type": "code",
   "execution_count": 4,
   "outputs": [
    {
     "name": "stdout",
     "output_type": "stream",
     "text": [
      "329389.0\n"
     ]
    }
   ],
   "source": [
    "# Here's what I could have done, except for giving it as a float its the same answer:\n",
    "from statistics import median\n",
    "print(cost(data, median(data)))"
   ],
   "metadata": {
    "collapsed": false,
    "pycharm": {
     "name": "#%%\n"
    }
   }
  },
  {
   "cell_type": "markdown",
   "source": [
    "### Part Two\n",
    "\n",
    "The crabs don't seem interested in your proposed solution. Perhaps you misunderstand crab engineering?\n",
    "\n",
    "As it turns out, crab submarine engines <span title=\"This appears to be due to the modial interaction of magneto-reluctance and capacitive duractance.\">don't burn fuel at a constant rate</span>. Instead, each change of 1 step in horizontal position costs 1 more unit of fuel than the last: the first step costs `1`, the second step costs `2`, the third step costs `3`, and so on.\n",
    "\n",
    "As each crab moves, moving further becomes more expensive. This changes the best horizontal position to align them all on; in the example above, this becomes `5`:\n",
    "\n",
    "*   Move from `16` to `5`: `66` fuel\n",
    "*   Move from `1` to `5`: `10` fuel\n",
    "*   Move from `2` to `5`: `6` fuel\n",
    "*   Move from `0` to `5`: `15` fuel\n",
    "*   Move from `4` to `5`: `1` fuel\n",
    "*   Move from `2` to `5`: `6` fuel\n",
    "*   Move from `7` to `5`: `3` fuel\n",
    "*   Move from `1` to `5`: `10` fuel\n",
    "*   Move from `2` to `5`: `6` fuel\n",
    "*   Move from `14` to `5`: `45` fuel\n",
    "\n",
    "This costs a total of _`168`_ fuel. This is the new cheapest possible outcome; the old alignment position (`2`) now costs `206` fuel instead.\n",
    "\n",
    "Determine the horizontal position that the crabs can align to using the least fuel possible so they can make you an escape route! _How much fuel must they spend to align to that position?_"
   ],
   "metadata": {
    "collapsed": false,
    "pycharm": {
     "name": "#%% md\n"
    }
   }
  },
  {
   "cell_type": "code",
   "execution_count": 6,
   "outputs": [
    {
     "name": "stdout",
     "output_type": "stream",
     "text": [
      "459589 1000 459.589\n",
      "86397080\n"
     ]
    }
   ],
   "source": [
    "input=open('input/day7.txt').read().strip()\n",
    "data = [int(n) for n in input.split(',')]\n",
    "\n",
    "print(sum(data), len(data), sum(data)/len(data))\n",
    "\n",
    "def triangle(n):\n",
    "    return n*(n+1)//2\n",
    "\n",
    "def cost(values, target):\n",
    "    return sum(triangle(abs(v-target)) for v in values)\n",
    "\n",
    "print(min(cost(data, n) for n in range(max(data))))"
   ],
   "metadata": {
    "collapsed": false,
    "pycharm": {
     "name": "#%%\n"
    }
   }
  },
  {
   "cell_type": "markdown",
   "source": [
    "**Your puzzle answer was 86397080.**\n",
    "\n",
    "<div class=\"alert alert-block alert-info\">\n",
    "Still fast enough even when brute forced. The shortcut here is to realise the triangular numbers mean the answer will be\n",
    "at the mean value (or very close to it) to get there a thousand times faster (or three hundred times faster if we check\n",
    "the values either side).\n",
    "</div>"
   ],
   "metadata": {
    "collapsed": false
   }
  },
  {
   "cell_type": "code",
   "execution_count": 8,
   "outputs": [
    {
     "name": "stdout",
     "output_type": "stream",
     "text": [
      "86397080\n"
     ]
    }
   ],
   "source": [
    "from statistics import mean\n",
    "print(cost(data, int(mean(data))))\n"
   ],
   "metadata": {
    "collapsed": false,
    "pycharm": {
     "name": "#%%\n"
    }
   }
  }
 ],
 "metadata": {
  "kernelspec": {
   "display_name": "Python 3",
   "language": "python",
   "name": "python3"
  },
  "language_info": {
   "codemirror_mode": {
    "name": "ipython",
    "version": 2
   },
   "file_extension": ".py",
   "mimetype": "text/x-python",
   "name": "python",
   "nbconvert_exporter": "python",
   "pygments_lexer": "ipython2",
   "version": "2.7.6"
  }
 },
 "nbformat": 4,
 "nbformat_minor": 0
}