{
 "cells": [
  {
   "cell_type": "markdown",
   "metadata": {
    "collapsed": true,
    "pycharm": {
     "name": "#%% md\n"
    }
   },
   "source": []
  },
  {
   "cell_type": "markdown",
   "source": [
    "# Day 17: Trick Shot\n",
    "\n",
    "[https://adventofcode.com/2021/day/17](https://adventofcode.com/2021/day/17)\n",
    "\n",
    "## Description\n",
    "\n",
    "### Part One\n",
    "\n",
    "You finally decode the Elves' message. `<span title=\"Maybe you need to turn the message 90 degrees counterclockwise?\">HI</span>`, the message says. You continue searching for the sleigh keys.\n",
    "\n",
    "Ahead of you is what appears to be a large [ocean trench](https://en.wikipedia.org/wiki/Oceanic_trench). Could the keys have fallen into it? You'd better send a probe to investigate.\n",
    "\n",
    "The probe launcher on your submarine can fire the probe with any [integer](https://en.wikipedia.org/wiki/Integer) velocity in the `x` (forward) and `y` (upward, or downward if negative) directions. For example, an initial `x,y` velocity like `0,10` would fire the probe straight up, while an initial velocity like `10,-1` would fire the probe forward at a slight downward angle.\n",
    "\n",
    "The probe's `x,y` position starts at `0,0`. Then, it will follow some trajectory by moving in _steps_. On each step, these changes occur in the following order:\n",
    "\n",
    "*   The probe's `x` position increases by its `x` velocity.\n",
    "*   The probe's `y` position increases by its `y` velocity.\n",
    "*   Due to drag, the probe's `x` velocity changes by `1` toward the value `0`; that is, it decreases by `1` if it is greater than `0`, increases by `1` if it is less than `0`, or does not change if it is already `0`.\n",
    "*   Due to gravity, the probe's `y` velocity decreases by `1`.\n",
    "\n",
    "For the probe to successfully make it into the trench, the probe must be on some trajectory that causes it to be within a _target area_ after any step. The submarine computer has already calculated this target area (your puzzle input). For example:\n",
    "\n",
    "    target area: x=20..30, y=-10..-5\n",
    "\n",
    "This target area means that you need to find initial `x,y` velocity values such that after any step, the probe's `x` position is at least `20` and at most `30`, _and_ the probe's `y` position is at least `-10` and at most `-5`.\n",
    "\n",
    "Given this target area, one initial velocity that causes the probe to be within the target area after any step is `7,2`:\n",
    "\n",
    "    .............#....#............\n",
    "    .......#..............#........\n",
    "    ...............................\n",
    "    S........................#.....\n",
    "    ...............................\n",
    "    ...............................\n",
    "    ...........................#...\n",
    "    ...............................\n",
    "    ....................TTTTTTTTTTT\n",
    "    ....................TTTTTTTTTTT\n",
    "    ....................TTTTTTTT#TT\n",
    "    ....................TTTTTTTTTTT\n",
    "    ....................TTTTTTTTTTT\n",
    "    ....................TTTTTTTTTTT\n",
    "\n",
    "\n",
    "In this diagram, `S` is the probe's initial position, `0,0`. The `x` coordinate increases to the right, and the `y` coordinate increases upward. In the bottom right, positions that are within the target area are shown as `T`. After each step (until the target area is reached), the position of the probe is marked with `#`. (The bottom-right `#` is both a position the probe reaches and a position in the target area.)\n",
    "\n",
    "Another initial velocity that causes the probe to be within the target area after any step is `6,3`:\n",
    "\n",
    "    ...............#..#............\n",
    "    ...........#........#..........\n",
    "    ...............................\n",
    "    ......#..............#.........\n",
    "    ...............................\n",
    "    ...............................\n",
    "    S....................#.........\n",
    "    ...............................\n",
    "    ...............................\n",
    "    ...............................\n",
    "    .....................#.........\n",
    "    ....................TTTTTTTTTTT\n",
    "    ....................TTTTTTTTTTT\n",
    "    ....................TTTTTTTTTTT\n",
    "    ....................TTTTTTTTTTT\n",
    "    ....................T#TTTTTTTTT\n",
    "    ....................TTTTTTTTTTT\n",
    "\n",
    "\n",
    "Another one is `9,0`:\n",
    "\n",
    "    S........#.....................\n",
    "    .................#.............\n",
    "    ...............................\n",
    "    ........................#......\n",
    "    ...............................\n",
    "    ....................TTTTTTTTTTT\n",
    "    ....................TTTTTTTTTT#\n",
    "    ....................TTTTTTTTTTT\n",
    "    ....................TTTTTTTTTTT\n",
    "    ....................TTTTTTTTTTT\n",
    "    ....................TTTTTTTTTTT\n",
    "\n",
    "\n",
    "One initial velocity that _doesn't_ cause the probe to be within the target area after any step is `17,-4`:\n",
    "\n",
    "    S..............................................................\n",
    "    ...............................................................\n",
    "    ...............................................................\n",
    "    ...............................................................\n",
    "    .................#.............................................\n",
    "    ....................TTTTTTTTTTT................................\n",
    "    ....................TTTTTTTTTTT................................\n",
    "    ....................TTTTTTTTTTT................................\n",
    "    ....................TTTTTTTTTTT................................\n",
    "    ....................TTTTTTTTTTT..#.............................\n",
    "    ....................TTTTTTTTTTT................................\n",
    "    ...............................................................\n",
    "    ...............................................................\n",
    "    ...............................................................\n",
    "    ...............................................................\n",
    "    ................................................#..............\n",
    "    ...............................................................\n",
    "    ...............................................................\n",
    "    ...............................................................\n",
    "    ...............................................................\n",
    "    ...............................................................\n",
    "    ...............................................................\n",
    "    ..............................................................#\n",
    "\n",
    "\n",
    "The probe appears to pass through the target area, but is never within it after any step. Instead, it continues down and to the right - only the first few steps are shown.\n",
    "\n",
    "If you're going to fire a highly scientific probe out of a super cool probe launcher, you might as well do it with _style_. How high can you make the probe go while still reaching the target area?\n",
    "\n",
    "In the above example, using an initial velocity of `6,9` is the best you can do, causing the probe to reach a maximum `y` position of _`45`_. (Any higher initial `y` velocity causes the probe to overshoot the target area entirely.)\n",
    "\n",
    "Find the initial velocity that causes the probe to reach the highest `y` position and still eventually be within the target area after any step. _What is the highest `y` position it reaches on this trajectory?_"
   ],
   "metadata": {
    "collapsed": false,
    "pycharm": {
     "name": "#%% md\n"
    }
   }
  },
  {
   "cell_type": "code",
   "execution_count": 1,
   "outputs": [
    {
     "data": {
      "text/plain": "Part1\n\u001B[1m(\u001B[0m\u001B[1m(\u001B[0m\u001B[1;36m15\u001B[0m, \u001B[1;36m139\u001B[0m\u001B[1m)\u001B[0m, \u001B[1;36m9730\u001B[0m\u001B[1m)\u001B[0m\n",
      "text/html": "<pre style=\"white-space:pre;overflow-x:auto;line-height:normal;font-family:Menlo,'DejaVu Sans Mono',consolas,'Courier New',monospace\">Part1\n<span style=\"font-weight: bold\">((</span><span style=\"color: #008080; text-decoration-color: #008080; font-weight: bold\">15</span>, <span style=\"color: #008080; text-decoration-color: #008080; font-weight: bold\">139</span><span style=\"font-weight: bold\">)</span>, <span style=\"color: #008080; text-decoration-color: #008080; font-weight: bold\">9730</span><span style=\"font-weight: bold\">)</span>\n</pre>\n"
     },
     "metadata": {},
     "output_type": "display_data"
    }
   ],
   "source": [
    "def maxy(ymax, ymin):\n",
    "    possible = 0\n",
    "    possytop = 0\n",
    "    for v in range(1, abs(ymin) + 1):\n",
    "        ytop = 0\n",
    "        for steps in range(1, 10000):\n",
    "            y = steps * v - steps * (steps - 1) // 2\n",
    "            ytop = max(ytop, y)\n",
    "            if y < ymin:\n",
    "                break\n",
    "            if ymin <= y <= ymax:\n",
    "                # print(f\"{v=}, {steps=}, {y=}\")\n",
    "                possible = v\n",
    "                possytop = ytop\n",
    "                break\n",
    "    return possible, steps, possytop\n",
    "\n",
    "\n",
    "def x_velocity(xmin, xmax, steps):\n",
    "    for velocity in range(xmin // steps, xmax + 1):\n",
    "        st = min(steps, velocity)\n",
    "        x = velocity * st - st * (st - 1) // 2\n",
    "        if xmin <= x <= xmax:\n",
    "            return velocity\n",
    "\n",
    "\n",
    "def part1(xmin, xmax, ymin, ymax):\n",
    "    yv, steps, ytop = maxy(ymax, ymin)\n",
    "    xv = x_velocity(xmin, xmax, steps)\n",
    "    # print(xv,yv, steps,ytop)\n",
    "    return (xv, yv), ytop\n",
    "\n",
    "\n",
    "assert part1(20, 30, -10, -5) == ((6, 9), 45)\n",
    "print(\"Part1\", part1(117, 164, -140, -89))"
   ],
   "metadata": {
    "collapsed": false,
    "pycharm": {
     "name": "#%%\n"
    }
   }
  },
  {
   "cell_type": "markdown",
   "source": [
    "**Your puzzle answer was 9730.**"
   ],
   "metadata": {
    "collapsed": false
   }
  },
  {
   "cell_type": "markdown",
   "source": [
    "\n",
    "### Part Two\n",
    "\n",
    "Maybe a fancy trick shot isn't the best idea; after all, you only have one probe, so you had better not miss.\n",
    "\n",
    "To get the best idea of what your options are for launching the probe, you need to find _every initial velocity_ that causes the probe to eventually be within the target area after any step.\n",
    "\n",
    "In the above example, there are _`112`_ different initial velocity values that meet these criteria:\n",
    "\n",
    "    23,-10  25,-9   27,-5   29,-6   22,-6   21,-7   9,0     27,-7   24,-5\n",
    "    25,-7   26,-6   25,-5   6,8     11,-2   20,-5   29,-10  6,3     28,-7\n",
    "    8,0     30,-6   29,-8   20,-10  6,7     6,4     6,1     14,-4   21,-6\n",
    "    26,-10  7,-1    7,7     8,-1    21,-9   6,2     20,-7   30,-10  14,-3\n",
    "    20,-8   13,-2   7,3     28,-8   29,-9   15,-3   22,-5   26,-8   25,-8\n",
    "    25,-6   15,-4   9,-2    15,-2   12,-2   28,-9   12,-3   24,-6   23,-7\n",
    "    25,-10  7,8     11,-3   26,-7   7,1     23,-9   6,0     22,-10  27,-6\n",
    "    8,1     22,-8   13,-4   7,6     28,-6   11,-4   12,-4   26,-9   7,4\n",
    "    24,-10  23,-8   30,-8   7,0     9,-1    10,-1   26,-5   22,-9   6,5\n",
    "    7,5     23,-6   28,-10  10,-2   11,-1   20,-9   14,-2   29,-7   13,-3\n",
    "    23,-5   24,-8   27,-9   30,-7   28,-5   21,-10  7,9     6,6     21,-5\n",
    "    27,-10  7,2     30,-9   21,-8   22,-7   24,-9   20,-6   6,9     29,-5\n",
    "    8,-2    27,-8   30,-5   24,-7\n",
    "\n",
    "\n",
    "_How many distinct initial velocity values cause the probe to be within the target area after any step?_"
   ],
   "metadata": {
    "collapsed": false,
    "pycharm": {
     "name": "#%% md\n"
    }
   }
  },
  {
   "cell_type": "code",
   "execution_count": 2,
   "outputs": [
    {
     "data": {
      "text/plain": "Part2 \u001B[1;36m4110\u001B[0m\n",
      "text/html": "<pre style=\"white-space:pre;overflow-x:auto;line-height:normal;font-family:Menlo,'DejaVu Sans Mono',consolas,'Courier New',monospace\">Part2 <span style=\"color: #008080; text-decoration-color: #008080; font-weight: bold\">4110</span>\n</pre>\n"
     },
     "metadata": {},
     "output_type": "display_data"
    }
   ],
   "source": [
    "\n",
    "def all_y(ymax, ymin):\n",
    "    for v in range(ymin, abs(ymin) + 1):\n",
    "        for steps in range(1, 10000):\n",
    "            y = steps * v - steps * (steps - 1) // 2\n",
    "            if y < ymin:\n",
    "                break\n",
    "            if ymin <= y <= ymax:\n",
    "                # print(f\"{v=}, {steps=}, {y=}\")\n",
    "                yield v, steps\n",
    "\n",
    "\n",
    "def all_x(xmin, xmax, steps):\n",
    "    pos = 0\n",
    "    for velocity in range(xmin // steps, xmax + 1):\n",
    "        st = min(steps, velocity)\n",
    "        x = velocity * st - st * (st - 1) // 2\n",
    "        if xmin <= x <= xmax:\n",
    "            yield velocity\n",
    "\n",
    "\n",
    "def part2(xmin, xmax, ymin, ymax):\n",
    "    possible = set()\n",
    "    for yv, steps in all_y(ymax, ymin):\n",
    "        for xv in all_x(xmin, xmax, steps):\n",
    "            possible.add((xv, yv))\n",
    "    return len(possible)\n",
    "\n",
    "\n",
    "assert part2(20, 30, -10, -5) == 112\n",
    "p2 = part2(117, 164, -140, -89)\n",
    "print(\"Part2\", p2)"
   ],
   "metadata": {
    "collapsed": false,
    "pycharm": {
     "name": "#%%\n"
    }
   }
  },
  {
   "cell_type": "markdown",
   "source": [
    "**Your puzzle answer was 4110.**\n"
   ],
   "metadata": {
    "collapsed": false,
    "pycharm": {
     "name": "#%% md\n"
    }
   }
  }
 ],
 "metadata": {
  "kernelspec": {
   "display_name": "Python 3",
   "language": "python",
   "name": "python3"
  },
  "language_info": {
   "codemirror_mode": {
    "name": "ipython",
    "version": 2
   },
   "file_extension": ".py",
   "mimetype": "text/x-python",
   "name": "python",
   "nbconvert_exporter": "python",
   "pygments_lexer": "ipython2",
   "version": "2.7.6"
  }
 },
 "nbformat": 4,
 "nbformat_minor": 0
}