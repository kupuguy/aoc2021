{
 "cells": [
  {
   "cell_type": "markdown",
   "metadata": {
    "collapsed": true,
    "pycharm": {
     "name": "#%% md\n"
    }
   },
   "source": [
    "# Day 21: Dirac Dice\n",
    "\n",
    "[https://adventofcode.com/2021/day/21](https://adventofcode.com/2021/day/21)\n",
    "\n",
    "## Description\n",
    "\n",
    "### Part One\n",
    "\n",
    "There's not much to do as you slowly descend to the bottom of the ocean. The submarine computer <span title=\"A STRANGE GAME.\">challenges you to a nice game</span> of _Dirac Dice_.\n",
    "\n",
    "This game consists of a single [die](https://en.wikipedia.org/wiki/Dice), two [pawns](https://en.wikipedia.org/wiki/Glossary_of_board_games#piece), and a game board with a circular track containing ten spaces marked `1` through `10` clockwise. Each player's _starting space_ is chosen randomly (your puzzle input). Player 1 goes first.\n",
    "\n",
    "Players take turns moving. On each player's turn, the player rolls the die _three times_ and adds up the results. Then, the player moves their pawn that many times _forward_ around the track (that is, moving clockwise on spaces in order of increasing value, wrapping back around to `1` after `10`). So, if a player is on space `7` and they roll `2`, `2`, and `1`, they would move forward 5 times, to spaces `8`, `9`, `10`, `1`, and finally stopping on `2`.\n",
    "\n",
    "After each player moves, they increase their _score_ by the value of the space their pawn stopped on. Players' scores start at `0`. So, if the first player starts on space `7` and rolls a total of `5`, they would stop on space `2` and add `2` to their score (for a total score of `2`). The game immediately ends as a win for any player whose score reaches _at least `1000`_.\n",
    "\n",
    "Since the first game is a practice game, the submarine opens a compartment labeled _deterministic dice_ and a 100-sided die falls out. This die always rolls `1` first, then `2`, then `3`, and so on up to `100`, after which it starts over at `1` again. Play using this die.\n",
    "\n",
    "For example, given these starting positions:\n",
    "\n",
    "    Player 1 starting position: 4\n",
    "    Player 2 starting position: 8\n",
    "\n",
    "\n",
    "This is how the game would go:\n",
    "\n",
    "*   Player 1 rolls `1`+`2`+`3` and moves to space `10` for a total score of `10`.\n",
    "*   Player 2 rolls `4`+`5`+`6` and moves to space `3` for a total score of `3`.\n",
    "*   Player 1 rolls `7`+`8`+`9` and moves to space `4` for a total score of `14`.\n",
    "*   Player 2 rolls `10`+`11`+`12` and moves to space `6` for a total score of `9`.\n",
    "*   Player 1 rolls `13`+`14`+`15` and moves to space `6` for a total score of `20`.\n",
    "*   Player 2 rolls `16`+`17`+`18` and moves to space `7` for a total score of `16`.\n",
    "*   Player 1 rolls `19`+`20`+`21` and moves to space `6` for a total score of `26`.\n",
    "*   Player 2 rolls `22`+`23`+`24` and moves to space `6` for a total score of `22`.\n",
    "\n",
    "...after many turns...\n",
    "\n",
    "*   Player 2 rolls `82`+`83`+`84` and moves to space `6` for a total score of `742`.\n",
    "*   Player 1 rolls `85`+`86`+`87` and moves to space `4` for a total score of `990`.\n",
    "*   Player 2 rolls `88`+`89`+`90` and moves to space `3` for a total score of `745`.\n",
    "*   Player 1 rolls `91`+`92`+`93` and moves to space `10` for a final score, `1000`.\n",
    "\n",
    "Since player 1 has at least `1000` points, player 1 wins and the game ends. At this point, the losing player had `745` points and the die had been rolled a total of `993` times; `745 * 993 = 739785`.\n",
    "\n",
    "Play a practice game using the deterministic 100-sided die. The moment either player wins, _what do you get if you multiply the score of the losing player by the number of times the die was rolled during the game?_\n"
   ]
  },
  {
   "cell_type": "code",
   "execution_count": 1,
   "metadata": {
    "pycharm": {
     "name": "#%%\n"
    }
   },
   "outputs": [
    {
     "data": {
      "text/html": [
       "<pre style=\"white-space:pre;overflow-x:auto;line-height:normal;font-family:Menlo,'DejaVu Sans Mono',consolas,'Courier New',monospace\"><span style=\"color: #008080; text-decoration-color: #008080; font-weight: bold\">918081</span>\n",
       "</pre>\n"
      ],
      "text/plain": [
       "\u001B[1;36m918081\u001B[0m\n"
      ]
     },
     "metadata": {},
     "output_type": "display_data"
    }
   ],
   "source": [
    "from functools import cache\n",
    "\n",
    "\n",
    "def die():\n",
    "    while True:\n",
    "        for roll in range(1, 101):\n",
    "            yield roll\n",
    "\n",
    "\n",
    "def part1(p1, p2):\n",
    "    d100 = die()\n",
    "    score1, score2 = 0, 0\n",
    "    rolls = 0\n",
    "    while score1 < 1000 and score2 < 1000:\n",
    "        rolls += 3\n",
    "        d = next(d100) + next(d100) + next(d100)\n",
    "        p1 = (p1 + d - 1) % 10 + 1\n",
    "        score1 += p1\n",
    "        if score1 >= 1000:\n",
    "            return score2 * rolls\n",
    "\n",
    "        rolls += 3\n",
    "        d = next(d100) + next(d100) + next(d100)\n",
    "        p2 = (p2 + d - 1) % 10 + 1\n",
    "        score2 += p2\n",
    "        if score2 >= 1000:\n",
    "            return score1 * rolls\n",
    "\n",
    "\n",
    "assert part1(p1=4, p2=8) == 739785\n",
    "print(part1(p1=10, p2=9))"
   ]
  },
  {
   "cell_type": "markdown",
   "metadata": {
    "pycharm": {
     "name": "#%% md\n"
    }
   },
   "source": [
    "**Your puzzle answer was 918081.**\n",
    "\n",
    "### Part Two\n",
    "\n",
    "Now that you're warmed up, it's time to play the real game.\n",
    "\n",
    "A second compartment opens, this time labeled _Dirac dice_. Out of it falls a single three-sided die.\n",
    "\n",
    "As you experiment with the die, you feel a little strange. An informational brochure in the compartment explains that this is a _quantum die_: when you roll it, the universe _splits into multiple copies_, one copy for each possible outcome of the die. In this case, rolling the die always splits the universe into _three copies_: one where the outcome of the roll was `1`, one where it was `2`, and one where it was `3`.\n",
    "\n",
    "The game is played the same as before, although to prevent things from getting too far out of hand, the game now ends when either player's score reaches at least _`21`_.\n",
    "\n",
    "Using the same starting positions as in the example above, player 1 wins in _`444356092776315`_ universes, while player 2 merely wins in `341960390180808` universes.\n",
    "\n",
    "Using your given starting positions, determine every possible outcome. _Find the player that wins in more universes; in how many universes does that player win?_"
   ]
  },
  {
   "cell_type": "code",
   "execution_count": 2,
   "metadata": {
    "pycharm": {
     "name": "#%%\n"
    }
   },
   "outputs": [
    {
     "data": {
      "text/html": [
       "<pre style=\"white-space:pre;overflow-x:auto;line-height:normal;font-family:Menlo,'DejaVu Sans Mono',consolas,'Courier New',monospace\"><span style=\"color: #008080; text-decoration-color: #008080; font-weight: bold\">158631174219251</span>\n",
       "</pre>\n"
      ],
      "text/plain": [
       "\u001B[1;36m158631174219251\u001B[0m\n"
      ]
     },
     "metadata": {},
     "output_type": "display_data"
    }
   ],
   "source": [
    "ROLLS = {6: 7, 5: 6, 7: 6, 4: 3, 8: 3, 3: 1, 9: 1}\n",
    "BACKWARD = {\n",
    "    pos: {roll: (pos - roll + 9) % 10 + 1 for roll in ROLLS} for pos in range(1, 11)\n",
    "}\n",
    "\n",
    "\n",
    "@cache\n",
    "def ways_to_reach(score, position, turns, start):\n",
    "    if score == 0 and turns == 0 and position == start:\n",
    "        return 1\n",
    "    if score < 1 or turns == 0:\n",
    "        return 0\n",
    "    return sum(\n",
    "        ways_to_reach(score - position, BACKWARD[position][r], turns - 1, start) * prob\n",
    "        for r, prob in ROLLS.items()\n",
    "    )\n",
    "\n",
    "\n",
    "@cache\n",
    "def all_ways_to_reach(score, turns, start):\n",
    "    return sum(\n",
    "        ways_to_reach(score, position, turns, start) for position in range(1, 11)\n",
    "    )\n",
    "\n",
    "\n",
    "@cache\n",
    "def ways_to_win(turns, start):\n",
    "    ways = 0\n",
    "    for final_score in range(21, 31):\n",
    "        for prev_score in range(final_score - 10, min(final_score, 21)):\n",
    "            final_pos = final_score - prev_score\n",
    "            ways += sum(\n",
    "                ways_to_reach(prev_score, BACKWARD[final_pos][r], turns - 1, start)\n",
    "                * ROLLS[r]\n",
    "                for r in ROLLS\n",
    "            )\n",
    "    return ways\n",
    "\n",
    "\n",
    "@cache\n",
    "def ways_to_lose(turns, start):\n",
    "    return sum(all_ways_to_reach(score, turns, start) for score in range(21))\n",
    "\n",
    "\n",
    "def part2(p1, p2):\n",
    "    p1_wins = sum(\n",
    "        ways_to_win(turns, p1) * ways_to_lose(turns - 1, p2) for turns in range(2, 22)\n",
    "    )\n",
    "    p2_wins = sum(\n",
    "        ways_to_win(turns, p2) * ways_to_lose(turns, p1) for turns in range(2, 22)\n",
    "    )\n",
    "    # print(p1_wins, p2_wins)\n",
    "    return max(p1_wins, p2_wins)\n",
    "\n",
    "\n",
    "assert part2(p1=4, p2=8) == 444356092776315\n",
    "print(part2(p1=10, p2=9))"
   ]
  },
  {
   "cell_type": "markdown",
   "metadata": {
    "pycharm": {
     "name": "#%% md\n"
    }
   },
   "source": [
    "**Your puzzle answer was 158631174219251.**\n",
    "\n"
   ]
  }
 ],
 "metadata": {
  "kernelspec": {
   "display_name": "Python 3 (ipykernel)",
   "language": "python",
   "name": "python3"
  },
  "language_info": {
   "codemirror_mode": {
    "name": "ipython",
    "version": 3
   },
   "file_extension": ".py",
   "mimetype": "text/x-python",
   "name": "python",
   "nbconvert_exporter": "python",
   "pygments_lexer": "ipython3",
   "version": "3.10.0"
  }
 },
 "nbformat": 4,
 "nbformat_minor": 1
}