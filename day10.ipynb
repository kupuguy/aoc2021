{
 "cells": [
  {
   "cell_type": "code",
   "execution_count": 1,
   "metadata": {
    "collapsed": true
   },
   "outputs": [],
   "source": []
  },
  {
   "cell_type": "markdown",
   "source": [
    "# Day 10: Syntax Scoring\n",
    "\n",
    "[https://adventofcode.com/2021/day/10](https://adventofcode.com/2021/day/10)\n",
    "\n",
    "## Description\n",
    "\n",
    "### Part One\n",
    "\n",
    "You ask the submarine to determine the best route out of the deep-sea cave, but it only replies:\n",
    "\n",
    "    Syntax error in navigation subsystem on line: all of them\n",
    "\n",
    "_All of them?!_ The damage is worse than you thought. You bring up a copy of the navigation subsystem (your puzzle input).\n",
    "\n",
    "The navigation subsystem syntax is made of several lines containing _chunks_. There are one or more chunks on each line, and chunks contain zero or more other chunks. Adjacent chunks are not separated by any delimiter; if one chunk stops, the next chunk (if any) can immediately start. Every chunk must _open_ and _close_ with one of four legal pairs of matching characters:\n",
    "\n",
    "*   If a chunk opens with `(`, it must close with `)`.\n",
    "*   If a chunk opens with `[`, it must close with `]`.\n",
    "*   If a chunk opens with `{`, it must close with `}`.\n",
    "*   If a chunk opens with `<`, it must close with `>`.\n",
    "\n",
    "So, `()` is a legal chunk that contains no other chunks, as is `[]`. More complex but valid chunks include `([])`, `{()()()}`, `<([{}])>`, `[<>({}){}[([])<>]]`, and even `(((((((((())))))))))`.\n",
    "\n",
    "Some lines are _incomplete_, but others are _corrupted_. Find and discard the corrupted lines first.\n",
    "\n",
    "A corrupted line is one where a chunk _closes with the wrong character_ - that is, where the characters it opens and closes with do not form one of the four legal pairs listed above.\n",
    "\n",
    "Examples of corrupted chunks include `(]`, `{()()()>`, `(((()))}`, and `<([]){()}[{}])`. Such a chunk can appear anywhere within a line, and its presence causes the whole line to be considered corrupted.\n",
    "\n",
    "For example, consider the following navigation subsystem:\n",
    "\n",
    "    [({(<(())[]>[[{[]{<()<>>\n",
    "    [(()[<>])]({[<{<<[]>>(\n",
    "    {([(<{}[<>[]}>{[]{[(<()>\n",
    "    (((({<>}<{<{<>}{[]{[]{}\n",
    "    [[<[([]))<([[{}[[()]]]\n",
    "    [{[{({}]{}}([{[{{{}}([]\n",
    "    {<[[]]>}<{[{[{[]{()[[[]\n",
    "    [<(<(<(<{}))><([]([]()\n",
    "    <{([([[(<>()){}]>(<<{{\n",
    "    <{([{{}}[<[[[<>{}]]]>[]]\n",
    "\n",
    "\n",
    "Some of the lines aren't corrupted, just incomplete; you can ignore these lines for now. The remaining five lines are corrupted:\n",
    "\n",
    "*   `{([(<{}[<>[]}>{[]{[(<()>` - Expected `]`, but found `}` instead.\n",
    "*   `[[<[([]))<([[{}[[()]]]` - Expected `]`, but found `)` instead.\n",
    "*   `[{[{({}]{}}([{[{{{}}([]` - Expected `)`, but found `]` instead.\n",
    "*   `[<(<(<(<{}))><([]([]()` - Expected `>`, but found `)` instead.\n",
    "*   `<{([([[(<>()){}]>(<<{{` - Expected `]`, but found `>` instead.\n",
    "\n",
    "Stop at the first incorrect closing character on each corrupted line.\n",
    "\n",
    "Did you know that syntax checkers actually have contests to see who can get the high score for syntax errors in a file? It's true! To calculate the syntax error score for a line, take the _first illegal character_ on the line and look it up in the following table:\n",
    "\n",
    "*   `)`: `3` points.\n",
    "*   `]`: `57` points.\n",
    "*   `}`: `1197` points.\n",
    "*   `>`: `25137` points.\n",
    "\n",
    "In the above example, an illegal `)` was found twice (`2*3 = 6` points), an illegal `]` was found once (_`57`_ points), an illegal `}` was found once (_`1197`_ points), and an illegal `>` was found once (_`25137`_ points). So, the total syntax error score for this file is `6+57+1197+25137 = 26397` points!\n",
    "\n",
    "Find the first illegal character in each corrupted line of the navigation subsystem. _What is the total syntax error score for those errors?_"
   ],
   "metadata": {
    "collapsed": false,
    "pycharm": {
     "name": "#%% md\n"
    }
   }
  },
  {
   "cell_type": "code",
   "execution_count": 2,
   "outputs": [
    {
     "data": {
      "text/plain": "\u001B[1;36m26397\u001B[0m\n",
      "text/html": "<pre style=\"white-space:pre;overflow-x:auto;line-height:normal;font-family:Menlo,'DejaVu Sans Mono',consolas,'Courier New',monospace\"><span style=\"color: #008080; text-decoration-color: #008080; font-weight: bold\">26397</span>\n</pre>\n"
     },
     "metadata": {},
     "output_type": "display_data"
    },
    {
     "data": {
      "text/plain": "\u001B[1;36m413733\u001B[0m\n",
      "text/html": "<pre style=\"white-space:pre;overflow-x:auto;line-height:normal;font-family:Menlo,'DejaVu Sans Mono',consolas,'Courier New',monospace\"><span style=\"color: #008080; text-decoration-color: #008080; font-weight: bold\">413733</span>\n</pre>\n"
     },
     "metadata": {},
     "output_type": "display_data"
    }
   ],
   "source": [
    "from functools import reduce\n",
    "\n",
    "def first_illegal(s):\n",
    "    scores = {\")\": 3, \"]\": 57, \"}\": 1197, \">\": 25137}\n",
    "    for _ in s:\n",
    "        s = s.replace('()', '').replace('[]','').replace('{}', '').replace('<>', '')\n",
    "    if first_bad := next((c for c in s if c not in \"([{<\"), None):\n",
    "        return scores[first_bad]\n",
    "    return 0\n",
    "\n",
    "def part1(filename):\n",
    "    print(sum(first_illegal(line.strip()) for line in open(filename)))\n",
    "\n",
    "\n",
    "part1(\"input/day10-test.txt\")\n",
    "part1(\"input/day10.txt\")"
   ],
   "metadata": {
    "collapsed": false,
    "pycharm": {
     "name": "#%%\n"
    }
   }
  },
  {
   "cell_type": "markdown",
   "source": [
    "<div class=\"alert alert-info\">For a change this isn't the code I used which pushed and popped a stack and you can see\n",
    "in the src directory. This code is a lot shorter: remove all matched pairs or brackets until there can't possibly be\n",
    "any left then pull out the answer.\n",
    "</div>"
   ],
   "metadata": {
    "collapsed": false
   }
  },
  {
   "cell_type": "markdown",
   "source": [
    "**Your puzzle answer was 413733.**\n",
    "\n",
    "### Part Two\n",
    "\n",
    "Now, discard the corrupted lines. The remaining lines are _incomplete_.\n",
    "\n",
    "Incomplete lines don't have any incorrect characters - instead, they're missing some closing characters at the end of the line. To repair the navigation subsystem, you just need to figure out _the sequence of closing characters_ that complete all open chunks in the line.\n",
    "\n",
    "You can only use closing characters (`)`, `]`, `}`, or `>`), and you must add them in the correct order so that only legal pairs are formed and all chunks end up closed.\n",
    "\n",
    "In the example above, there are five incomplete lines:\n",
    "\n",
    "*   `[({(<(())[]>[[{[]{<()<>>` - Complete by adding `}}]])})]`.\n",
    "*   `[(()[<>])]({[<{<<[]>>(` - Complete by adding `)}>]})`.\n",
    "*   `(((({<>}<{<{<>}{[]{[]{}` - Complete by adding `}}>}>))))`.\n",
    "*   `{<[[]]>}<{[{[{[]{()[[[]` - Complete by adding `]]}}]}]}>`.\n",
    "*   `<{([{{}}[<[[[<>{}]]]>[]]` - Complete by adding `])}>`.\n",
    "\n",
    "Did you know that autocomplete tools _also_ have contests? It's true! The score is determined by considering the completion string character-by-character. Start with a total score of `0`. Then, for each character, multiply the total score by 5 and then increase the total score by the point value given for the character in the following table:\n",
    "\n",
    "*   `)`: `1` point.\n",
    "*   `]`: `2` points.\n",
    "*   `}`: `3` points.\n",
    "*   `>`: `4` points.\n",
    "\n",
    "So, the last completion string above - `])}>` - would be scored as follows:\n",
    "\n",
    "*   Start with a total score of `0`.\n",
    "*   Multiply the total score by 5 to get `0`, then add the value of `]` (2) to get a new total score of `2`.\n",
    "*   Multiply the total score by 5 to get `10`, then add the value of `)` (1) to get a new total score of `11`.\n",
    "*   Multiply the total score by 5 to get `55`, then add the value of `}` (3) to get a new total score of `58`.\n",
    "*   Multiply the total score by 5 to get `290`, then add the value of `>` (4) to get a new total score of `294`.\n",
    "\n",
    "The five lines' completion strings have total scores as follows:\n",
    "\n",
    "*   `}}]])})]` - `288957` total points.\n",
    "*   `)}>]})` - `5566` total points.\n",
    "*   `}}>}>))))` - `1480781` total points.\n",
    "*   `]]}}]}]}>` - `995444` total points.\n",
    "*   `])}>` - `294` total points.\n",
    "\n",
    "Autocomplete tools are an odd bunch: the winner is found by _sorting_ all of the scores and then taking the _middle_ score. (There will always be an odd number of scores to consider.) In this example, the middle score is _`288957`_ because there are the same number of scores smaller and larger than it.\n",
    "\n",
    "Find the completion string for each incomplete line, score the completion strings, and sort the scores. _What is the middle score?_"
   ],
   "metadata": {
    "collapsed": false,
    "pycharm": {
     "name": "#%% md\n"
    }
   }
  },
  {
   "cell_type": "code",
   "execution_count": 3,
   "outputs": [
    {
     "data": {
      "text/plain": "\u001B[1;36m288957\u001B[0m\n",
      "text/html": "<pre style=\"white-space:pre;overflow-x:auto;line-height:normal;font-family:Menlo,'DejaVu Sans Mono',consolas,'Courier New',monospace\"><span style=\"color: #008080; text-decoration-color: #008080; font-weight: bold\">288957</span>\n</pre>\n"
     },
     "metadata": {},
     "output_type": "display_data"
    },
    {
     "data": {
      "text/plain": "\u001B[1;36m3354640192\u001B[0m\n",
      "text/html": "<pre style=\"white-space:pre;overflow-x:auto;line-height:normal;font-family:Menlo,'DejaVu Sans Mono',consolas,'Courier New',monospace\"><span style=\"color: #008080; text-decoration-color: #008080; font-weight: bold\">3354640192</span>\n</pre>\n"
     },
     "metadata": {},
     "output_type": "display_data"
    }
   ],
   "source": [
    "def incomplete(s):\n",
    "    scores = {\"(\": 1, \"[\": 2, \"{\": 3, \"<\": 4}\n",
    "    for _ in s:\n",
    "        s = s.replace('()', '').replace('[]','').replace('{}', '').replace('<>', '')\n",
    "\n",
    "    if next((c for c in s if c not in \"([{<\"), None):\n",
    "            return 0\n",
    "\n",
    "    return reduce(lambda a, b: a*5 + b, (scores[c] for c in s[::-1]), 0)\n",
    "\n",
    "\n",
    "def part2(filename):\n",
    "    scores = sorted(score for line in open(filename) if (score:=incomplete(line.strip())))\n",
    "    print(scores[len(scores) // 2])\n",
    "\n",
    "\n",
    "part2(\"input/day10-test.txt\")\n",
    "part2(\"input/day10.txt\")"
   ],
   "metadata": {
    "collapsed": false,
    "pycharm": {
     "name": "#%%\n"
    }
   }
  },
  {
   "cell_type": "markdown",
   "source": [
    "<div class=\"alert alert-info\">And the same technique for part 2. Note the gratuitous use of the walrus operator.\n",
    "</div>"
   ],
   "metadata": {
    "collapsed": false,
    "pycharm": {
     "name": "#%% md\n"
    }
   }
  },
  {
   "cell_type": "markdown",
   "source": [
    "**Your puzzle answer was 3354640192.**"
   ],
   "metadata": {
    "collapsed": false
   }
  }
 ],
 "metadata": {
  "kernelspec": {
   "display_name": "Python 3",
   "language": "python",
   "name": "python3"
  },
  "language_info": {
   "codemirror_mode": {
    "name": "ipython",
    "version": 2
   },
   "file_extension": ".py",
   "mimetype": "text/x-python",
   "name": "python",
   "nbconvert_exporter": "python",
   "pygments_lexer": "ipython2",
   "version": "2.7.6"
  }
 },
 "nbformat": 4,
 "nbformat_minor": 0
}