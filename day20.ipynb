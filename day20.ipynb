{
 "cells": [
  {
   "cell_type": "markdown",
   "metadata": {
    "collapsed": true,
    "pycharm": {
     "name": "#%% md\n"
    }
   },
   "source": [
    "# Day 20: Trench Map\n",
    "\n",
    "[https://adventofcode.com/2021/day/20](https://adventofcode.com/2021/day/20)\n",
    "\n",
    "## Description\n",
    "\n",
    "### Part One\n",
    "\n",
    "With the scanners fully deployed, you turn their attention to mapping the floor of the ocean trench.\n",
    "\n",
    "When you get back the image from the scanners, it seems to just be random noise. Perhaps you can combine an image enhancement algorithm and the input image (your puzzle input) to clean it up a little.\n",
    "\n",
    "For example:\n",
    "\n",
    "    ..#.#..#####.#.#.#.###.##.....###.##.#..###.####..#####..#....#..#..##..##\n",
    "    #..######.###...####..#..#####..##..#.#####...##.#.#..#.##..#.#......#.###\n",
    "    .######.###.####...#.##.##..#..#..#####.....#.#....###..#.##......#.....#.\n",
    "    .#..#..##..#...##.######.####.####.#.#...#.......#..#.#.#...####.##.#.....\n",
    "    .#..#...##.#.##..#...##.#.##..###.#......#.#.......#.#.#.####.###.##...#..\n",
    "    ...####.#..#..#.##.#....##..#.####....##...##..#...#......#.#.......#.....\n",
    "    ..##..####..#...#.#.#...##..#.#..###..#####........#..####......#..#\n",
    "\n",
    "    #..#.\n",
    "    #....\n",
    "    ##..#\n",
    "    ..#..\n",
    "    ..###\n",
    "\n",
    "\n",
    "The first section is the _image enhancement algorithm_. It is normally given on a single line, but it has been wrapped to multiple lines in this example for legibility. The second section is the _input image_, a two-dimensional grid of _light pixels_ (`#`) and _dark pixels_ (`.`).\n",
    "\n",
    "The image enhancement algorithm describes how to enhance an image by _simultaneously_ converting all pixels in the input image into an output image. Each pixel of the output image is determined by looking at a 3x3 square of pixels centered on the corresponding input image pixel. So, to determine the value of the pixel at (5,10) in the output image, nine pixels from the input image need to be considered: (4,9), (4,10), (4,11), (5,9), (5,10), (5,11), (6,9), (6,10), and (6,11). These nine input pixels are combined into a single binary number that is used as an index in the _image enhancement algorithm_ string.\n",
    "\n",
    "For example, to determine the output pixel that corresponds to the very middle pixel of the input image, the nine pixels marked by `[...]` would need to be considered:\n",
    "\n",
    "    # . . # .\n",
    "    #[. . .].\n",
    "    #[# . .]#\n",
    "    .[. # .].\n",
    "    . . # # #\n",
    "\n",
    "\n",
    "Starting from the top-left and reading across each row, these pixels are `...`, then `#..`, then `.#.`; combining these forms `...#...#.`. By turning dark pixels (`.`) into `0` and light pixels (`#`) into `1`, the binary number `000100010` can be formed, which is `34` in decimal.\n",
    "\n",
    "The image enhancement algorithm string is exactly 512 characters long, enough to match every possible 9-bit binary number. The first few characters of the string (numbered starting from zero) are as follows:\n",
    "\n",
    "    0         10        20        30  34    40        50        60        70\n",
    "    |         |         |         |   |     |         |         |         |\n",
    "    ..#.#..#####.#.#.#.###.##.....###.##.#..###.####..#####..#....#..#..##..##\n",
    "\n",
    "\n",
    "In the middle of this first group of characters, the character at index 34 can be found: `#`. So, the output pixel in the center of the output image should be `#`, a _light pixel_.\n",
    "\n",
    "This process can then be repeated to calculate every pixel of the output image.\n",
    "\n",
    "Through advances in imaging technology, the images being operated on here are _infinite_ in size. _Every_ pixel of the infinite output image needs to be calculated exactly based on the relevant pixels of the input image. The small input image you have is only a small region of the actual infinite input image; the rest of the input image consists of dark pixels (`.`). For the purposes of the example, to save on space, only a portion of the infinite-sized input and output images will be shown.\n",
    "\n",
    "The starting input image, therefore, looks something like this, with more dark pixels (`.`) extending forever in every direction not shown here:\n",
    "\n",
    "    ...............\n",
    "    ...............\n",
    "    ...............\n",
    "    ...............\n",
    "    ...............\n",
    "    .....#..#......\n",
    "    .....#.........\n",
    "    .....##..#.....\n",
    "    .......#.......\n",
    "    .......###.....\n",
    "    ...............\n",
    "    ...............\n",
    "    ...............\n",
    "    ...............\n",
    "    ...............\n",
    "\n",
    "\n",
    "By applying the image enhancement algorithm to every pixel simultaneously, the following output image can be obtained:\n",
    "\n",
    "    ...............\n",
    "    ...............\n",
    "    ...............\n",
    "    ...............\n",
    "    .....##.##.....\n",
    "    ....#..#.#.....\n",
    "    ....##.#..#....\n",
    "    ....####..#....\n",
    "    .....#..##.....\n",
    "    ......##..#....\n",
    "    .......#.#.....\n",
    "    ...............\n",
    "    ...............\n",
    "    ...............\n",
    "    ...............\n",
    "\n",
    "\n",
    "Through further advances in imaging technology, the above output image can also be used as an input image! This allows it to be enhanced _a second time_:\n",
    "\n",
    "    ...............\n",
    "    ...............\n",
    "    ...............\n",
    "    ..........#....\n",
    "    ....#..#.#.....\n",
    "    ...#.#...###...\n",
    "    ...#...##.#....\n",
    "    ...#.....#.#...\n",
    "    ....#.#####....\n",
    "    .....#.#####...\n",
    "    ......##.##....\n",
    "    .......###.....\n",
    "    ...............\n",
    "    ...............\n",
    "    ...............\n",
    "\n",
    "\n",
    "Truly incredible - now the small details are really starting to come through. After enhancing the original input image twice, _`35`_ pixels are lit.\n",
    "\n",
    "Start with the original input image and apply the image enhancement algorithm twice, being careful to account for the infinite size of the images. _How many pixels are lit in the resulting image?_"
   ]
  },
  {
   "cell_type": "code",
   "execution_count": 2,
   "outputs": [
    {
     "data": {
      "text/plain": "Part \u001B[1;36m1\u001B[0m \u001B[1;36m5231\u001B[0m\n",
      "text/html": "<pre style=\"white-space:pre;overflow-x:auto;line-height:normal;font-family:Menlo,'DejaVu Sans Mono',consolas,'Courier New',monospace\">Part <span style=\"color: #008080; text-decoration-color: #008080; font-weight: bold\">1</span> <span style=\"color: #008080; text-decoration-color: #008080; font-weight: bold\">5231</span>\n</pre>\n"
     },
     "metadata": {},
     "output_type": "display_data"
    }
   ],
   "source": [
    "from collections import Counter\n",
    "from typing import Generator\n",
    "\n",
    "\n",
    "def load(filename: str) -> tuple[str, list[str]]:\n",
    "    with open(filename) as f:\n",
    "        rules = f.readline().strip()\n",
    "\n",
    "        data = [line.strip() for line in f if line.strip()]\n",
    "    return rules, data\n",
    "\n",
    "\n",
    "def neighbours(x: int, y: int) -> Generator[tuple[int, int], None, None]:\n",
    "    yield from [(xn, yn) for yn in (y - 1, y, y + 1) for xn in (x - 1, x, x + 1)]\n",
    "\n",
    "\n",
    "def bounds(grid: dict[tuple[int, int], str]) -> tuple[int, int, int, int]:\n",
    "    left = min(x for x, _ in grid) - 1\n",
    "    right = max(x for x, _ in grid) + 1\n",
    "    top = min(y for _, y in grid) - 1\n",
    "    bottom = max(y for _, y in grid) + 1\n",
    "    return left, top, right, bottom\n",
    "\n",
    "\n",
    "def algorithm(rules: str, grid: dict[tuple[int, int], str], default: str):\n",
    "    new_grid: dict[tuple[int, int], str] = {}\n",
    "\n",
    "    left, top, right, bottom = bounds(grid)\n",
    "    for x in range(left, right + 1):\n",
    "        for y in range(top, bottom + 1):\n",
    "            index = int(\n",
    "                \"\".join(grid.get((x1, y1), default) for x1, y1 in neighbours(x, y)), 2\n",
    "            )\n",
    "            if rules[index] == \"#\":\n",
    "                new_grid[x, y] = \"1\"\n",
    "            else:\n",
    "                new_grid[x, y] = \"0\"\n",
    "    return new_grid\n",
    "\n",
    "\n",
    "def reconstruct(grid: dict[tuple[int, int], str]) -> str:\n",
    "    left, top, right, bottom = bounds(grid)\n",
    "    rows: list[str] = []\n",
    "    for y in range(top, bottom):\n",
    "        rows.append(\"\".join(grid.get((x, y), \" \") for x in range(left, right)))\n",
    "    return \"\\n\".join(rows)\n",
    "\n",
    "\n",
    "def part1(filename: str, nsteps: int = 2) -> int:\n",
    "    rules, raw = load(filename)\n",
    "    grid = {\n",
    "        (x, y): (\"1\" if c == \"#\" else \"0\")\n",
    "        for y, row in enumerate(raw)\n",
    "        for x, c in enumerate(row)\n",
    "    }\n",
    "\n",
    "    grid = algorithm(rules, grid, \"0\")\n",
    "    default = \"1\" if rules[0] == \"#\" else \"0\"\n",
    "    for n in range(nsteps - 1):\n",
    "        grid = algorithm(rules, grid, default)\n",
    "        dc = rules[0] if default == \"0\" else rules[511]\n",
    "        default = \"1\" if dc == \"#\" else \"0\"\n",
    "    counts = Counter(grid.values())\n",
    "    return counts[\"1\"]\n",
    "\n",
    "\n",
    "assert part1(\"input/day20-test.txt\") == 35\n",
    "print(\"Part 1\", part1(\"input/day20.txt\"))"
   ],
   "metadata": {
    "collapsed": false,
    "pycharm": {
     "name": "#%%\n"
    }
   }
  },
  {
   "cell_type": "markdown",
   "source": [
    "**Your puzzle answer was 5231.**\n",
    "\n",
    "### Part Two\n",
    "\n",
    "You still can't quite make out the details in the image. Maybe you just didn't [enhance](https://en.wikipedia.org/wiki/Kernel_(image_processing)) it <span title=\"Yeah, that's definitely the problem.\">enough</span>.\n",
    "\n",
    "If you enhance the starting input image in the above example a total of _50_ times, _`3351`_ pixels are lit in the final output image.\n",
    "\n",
    "Start again with the original input image and apply the image enhancement algorithm 50 times. _How many pixels are lit in the resulting image?_"
   ],
   "metadata": {
    "collapsed": false
   }
  },
  {
   "cell_type": "code",
   "execution_count": 3,
   "outputs": [
    {
     "data": {
      "text/plain": "Part \u001B[1;36m2\u001B[0m \u001B[1;36m14279\u001B[0m\n",
      "text/html": "<pre style=\"white-space:pre;overflow-x:auto;line-height:normal;font-family:Menlo,'DejaVu Sans Mono',consolas,'Courier New',monospace\">Part <span style=\"color: #008080; text-decoration-color: #008080; font-weight: bold\">2</span> <span style=\"color: #008080; text-decoration-color: #008080; font-weight: bold\">14279</span>\n</pre>\n"
     },
     "metadata": {},
     "output_type": "display_data"
    }
   ],
   "source": [
    "part2 = part1\n",
    "assert part2(\"input/day20-test.txt\", 50) == 3351\n",
    "print(\"Part 2\", part2(\"input/day20.txt\", 50))"
   ],
   "metadata": {
    "collapsed": false,
    "pycharm": {
     "name": "#%%\n"
    }
   }
  },
  {
   "cell_type": "markdown",
   "source": [
    "**Your puzzle answer was 14279.**\n",
    "<div class=\"alert alert-info\">Nice little twist there in part 2 where the infinite grid flashes alternately 1s and 0s</div>\n"
   ],
   "metadata": {
    "collapsed": false
   }
  }
 ],
 "metadata": {
  "kernelspec": {
   "display_name": "Python 3",
   "language": "python",
   "name": "python3"
  },
  "language_info": {
   "codemirror_mode": {
    "name": "ipython",
    "version": 2
   },
   "file_extension": ".py",
   "mimetype": "text/x-python",
   "name": "python",
   "nbconvert_exporter": "python",
   "pygments_lexer": "ipython2",
   "version": "2.7.6"
  }
 },
 "nbformat": 4,
 "nbformat_minor": 0
}