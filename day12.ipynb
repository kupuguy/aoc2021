{
 "cells": [
  {
   "cell_type": "markdown",
   "source": [
    "# Day 12: Passage Pathing\n",
    "\n",
    "[https://adventofcode.com/2021/day/12](https://adventofcode.com/2021/day/12)\n",
    "\n",
    "## Description\n",
    "\n",
    "### Part One\n",
    "\n",
    "With your <span title=\"Sublime.\">submarine's subterranean subsystems subsisting suboptimally</span>, the only way you're getting out of this cave anytime soon is by finding a path yourself. Not just _a_ path - the only way to know if you've found the _best_ path is to find _all_ of them.\n",
    "\n",
    "Fortunately, the sensors are still mostly working, and so you build a rough map of the remaining caves (your puzzle input). For example:\n",
    "\n",
    "    start-A\n",
    "    start-b\n",
    "    A-c\n",
    "    A-b\n",
    "    b-d\n",
    "    A-end\n",
    "    b-end\n",
    "\n",
    "\n",
    "This is a list of how all of the caves are connected. You start in the cave named `start`, and your destination is the cave named `end`. An entry like `b-d` means that cave `b` is connected to cave `d` - that is, you can move between them.\n",
    "\n",
    "So, the above cave system looks roughly like this:\n",
    "\n",
    "        start\n",
    "        /   \\\n",
    "    c--A-----b--d\n",
    "        \\   /\n",
    "         end\n",
    "\n",
    "\n",
    "Your goal is to find the number of distinct _paths_ that start at `start`, end at `end`, and don't visit small caves more than once. There are two types of caves: _big_ caves (written in uppercase, like `A`) and _small_ caves (written in lowercase, like `b`). It would be a waste of time to visit any small cave more than once, but big caves are large enough that it might be worth visiting them multiple times. So, all paths you find should _visit small caves at most once_, and can _visit big caves any number of times_.\n",
    "\n",
    "Given these rules, there are _`10`_ paths through this example cave system:\n",
    "\n",
    "    start,A,b,A,c,A,end\n",
    "    start,A,b,A,end\n",
    "    start,A,b,end\n",
    "    start,A,c,A,b,A,end\n",
    "    start,A,c,A,b,end\n",
    "    start,A,c,A,end\n",
    "    start,A,end\n",
    "    start,b,A,c,A,end\n",
    "    start,b,A,end\n",
    "    start,b,end\n",
    "\n",
    "\n",
    "(Each line in the above list corresponds to a single path; the caves visited by that path are listed in the order they are visited and separated by commas.)\n",
    "\n",
    "Note that in this cave system, cave `d` is never visited by any path: to do so, cave `b` would need to be visited twice (once on the way to cave `d` and a second time when returning from cave `d`), and since cave `b` is small, this is not allowed.\n",
    "\n",
    "Here is a slightly larger example:\n",
    "\n",
    "    dc-end\n",
    "    HN-start\n",
    "    start-kj\n",
    "    dc-start\n",
    "    dc-HN\n",
    "    LN-dc\n",
    "    HN-end\n",
    "    kj-sa\n",
    "    kj-HN\n",
    "    kj-dc\n",
    "\n",
    "\n",
    "The `19` paths through it are as follows:\n",
    "\n",
    "    start,HN,dc,HN,end\n",
    "    start,HN,dc,HN,kj,HN,end\n",
    "    start,HN,dc,end\n",
    "    start,HN,dc,kj,HN,end\n",
    "    start,HN,end\n",
    "    start,HN,kj,HN,dc,HN,end\n",
    "    start,HN,kj,HN,dc,end\n",
    "    start,HN,kj,HN,end\n",
    "    start,HN,kj,dc,HN,end\n",
    "    start,HN,kj,dc,end\n",
    "    start,dc,HN,end\n",
    "    start,dc,HN,kj,HN,end\n",
    "    start,dc,end\n",
    "    start,dc,kj,HN,end\n",
    "    start,kj,HN,dc,HN,end\n",
    "    start,kj,HN,dc,end\n",
    "    start,kj,HN,end\n",
    "    start,kj,dc,HN,end\n",
    "    start,kj,dc,end\n",
    "\n",
    "\n",
    "Finally, this even larger example has `226` paths through it:\n",
    "\n",
    "    fs-end\n",
    "    he-DX\n",
    "    fs-he\n",
    "    start-DX\n",
    "    pj-DX\n",
    "    end-zg\n",
    "    zg-sl\n",
    "    zg-pj\n",
    "    pj-he\n",
    "    RW-he\n",
    "    fs-DX\n",
    "    pj-RW\n",
    "    zg-RW\n",
    "    start-pj\n",
    "    he-WI\n",
    "    zg-he\n",
    "    pj-fs\n",
    "    start-RW\n",
    "\n",
    "\n",
    "_How many paths through this cave system are there that visit small caves at most once?_"
   ],
   "metadata": {
    "collapsed": false,
    "pycharm": {
     "name": "#%% md\n"
    }
   }
  },
  {
   "cell_type": "code",
   "execution_count": 1,
   "metadata": {
    "collapsed": true
   },
   "outputs": [
    {
     "data": {
      "text/plain": "part \u001B[1;36m1\u001B[0m \u001B[1;36m3369\u001B[0m\n",
      "text/html": "<pre style=\"white-space:pre;overflow-x:auto;line-height:normal;font-family:Menlo,'DejaVu Sans Mono',consolas,'Courier New',monospace\">part <span style=\"color: #008080; text-decoration-color: #008080; font-weight: bold\">1</span> <span style=\"color: #008080; text-decoration-color: #008080; font-weight: bold\">3369</span>\n</pre>\n"
     },
     "metadata": {},
     "output_type": "display_data"
    }
   ],
   "source": [
    "from collections import defaultdict\n",
    "\n",
    "def find_path(routes: dict[str, set], seen: set, current: str, small_caves: set[str], small_cave_count: int=0):\n",
    "    for nxt in routes[current]:\n",
    "        if nxt in small_caves:\n",
    "            if nxt == \"end\":\n",
    "                yield seen\n",
    "            elif len(seen | {nxt}) < small_cave_count+1:\n",
    "                continue  # can't revisit a small room.\n",
    "            else:\n",
    "                yield from find_path(routes, seen | {nxt}, nxt, small_caves, small_cave_count+1)\n",
    "        else:\n",
    "            yield from find_path(routes, seen, nxt, small_caves, small_cave_count)\n",
    "\n",
    "def load(filename: str) -> dict[str, set]:\n",
    "    routes = defaultdict(set)\n",
    "    for a, b in [line.strip().split(\"-\") for line in open(filename)]:\n",
    "        # avoid adding any routes back to start\n",
    "        if b != 'start':\n",
    "            routes[a].add(b)\n",
    "        if a != 'start':\n",
    "            routes[b].add(a)\n",
    "    # and no routes away from end\n",
    "    routes['end'] = set()\n",
    "    return routes\n",
    "\n",
    "def part1(filename):\n",
    "    routes = load(filename)\n",
    "\n",
    "    small_caves = {cave for cave in routes if cave.islower()}\n",
    "    return len(list(find_path(routes, seen=set(), current='start', small_caves=small_caves, small_cave_count=0)))\n",
    "\n",
    "\n",
    "assert part1(\"input/day12-test.txt\") == 19\n",
    "print(\"part 1\", part1(\"input/day12.txt\"))"
   ]
  },
  {
   "cell_type": "markdown",
   "source": [
    "<div class=\"alert alert-info\">Confession time: my original code for this was so bad I rewrote it from scratch\n",
    "(after submitting the answer). This version is much cleaner (the original is in git history if you must). Check to\n",
    "avoid revisiting a small cave by counting total small caves visited and comparing against the size of a set of them.</div>\n",
    "\n",
    "**Your puzzle answer was 3369.**\n",
    "\n",
    "### Part Two\n",
    "\n",
    "After reviewing the available paths, you realize you might have time to visit a single small cave _twice_. Specifically, big caves can be visited any number of times, a single small cave can be visited at most twice, and the remaining small caves can be visited at most once. However, the caves named `start` and `end` can only be visited _exactly once each_: once you leave the `start` cave, you may not return to it, and once you reach the `end` cave, the path must end immediately.\n",
    "\n",
    "Now, the `36` possible paths through the first example above are:\n",
    "\n",
    "    start,A,b,A,b,A,c,A,end\n",
    "    start,A,b,A,b,A,end\n",
    "    start,A,b,A,b,end\n",
    "    start,A,b,A,c,A,b,A,end\n",
    "    start,A,b,A,c,A,b,end\n",
    "    start,A,b,A,c,A,c,A,end\n",
    "    start,A,b,A,c,A,end\n",
    "    start,A,b,A,end\n",
    "    start,A,b,d,b,A,c,A,end\n",
    "    start,A,b,d,b,A,end\n",
    "    start,A,b,d,b,end\n",
    "    start,A,b,end\n",
    "    start,A,c,A,b,A,b,A,end\n",
    "    start,A,c,A,b,A,b,end\n",
    "    start,A,c,A,b,A,c,A,end\n",
    "    start,A,c,A,b,A,end\n",
    "    start,A,c,A,b,d,b,A,end\n",
    "    start,A,c,A,b,d,b,end\n",
    "    start,A,c,A,b,end\n",
    "    start,A,c,A,c,A,b,A,end\n",
    "    start,A,c,A,c,A,b,end\n",
    "    start,A,c,A,c,A,end\n",
    "    start,A,c,A,end\n",
    "    start,A,end\n",
    "    start,b,A,b,A,c,A,end\n",
    "    start,b,A,b,A,end\n",
    "    start,b,A,b,end\n",
    "    start,b,A,c,A,b,A,end\n",
    "    start,b,A,c,A,b,end\n",
    "    start,b,A,c,A,c,A,end\n",
    "    start,b,A,c,A,end\n",
    "    start,b,A,end\n",
    "    start,b,d,b,A,c,A,end\n",
    "    start,b,d,b,A,end\n",
    "    start,b,d,b,end\n",
    "    start,b,end\n",
    "\n",
    "\n",
    "The slightly larger example above now has `103` paths through it, and the even larger example now has `3509` paths through it.\n",
    "\n",
    "Given these new rules, _how many paths through this cave system are there?_"
   ],
   "metadata": {
    "collapsed": false,
    "pycharm": {
     "name": "#%% md\n"
    }
   }
  },
  {
   "cell_type": "code",
   "execution_count": 2,
   "outputs": [
    {
     "data": {
      "text/plain": "part \u001B[1;36m2\u001B[0m \u001B[1;36m85883\u001B[0m\n",
      "text/html": "<pre style=\"white-space:pre;overflow-x:auto;line-height:normal;font-family:Menlo,'DejaVu Sans Mono',consolas,'Courier New',monospace\">part <span style=\"color: #008080; text-decoration-color: #008080; font-weight: bold\">2</span> <span style=\"color: #008080; text-decoration-color: #008080; font-weight: bold\">85883</span>\n</pre>\n"
     },
     "metadata": {},
     "output_type": "display_data"
    }
   ],
   "source": [
    "def part2(filename):\n",
    "    routes = load(filename)\n",
    "\n",
    "    small_caves = {cave for cave in routes if cave.islower()}\n",
    "    return len(list(find_path(routes, seen=set(), current='start', small_caves=small_caves, small_cave_count=-1)))\n",
    "\n",
    "assert part2(\"input/day12-test.txt\") == 103\n",
    "print(\"part 2\", part2(\"input/day12.txt\"))"
   ],
   "metadata": {
    "collapsed": false,
    "pycharm": {
     "name": "#%%\n"
    }
   }
  },
  {
   "cell_type": "markdown",
   "source": [
    "<div class=\"alert alert-info\">We can allow for revisiting one small cave simply by starting the count one lower.</div>\n",
    "\n",
    "\n",
    "**Your puzzle answer was 85883.**"
   ],
   "metadata": {
    "collapsed": false,
    "pycharm": {
     "name": "#%% md\n"
    }
   }
  }
 ],
 "metadata": {
  "kernelspec": {
   "display_name": "Python 3",
   "language": "python",
   "name": "python3"
  },
  "language_info": {
   "codemirror_mode": {
    "name": "ipython",
    "version": 2
   },
   "file_extension": ".py",
   "mimetype": "text/x-python",
   "name": "python",
   "nbconvert_exporter": "python",
   "pygments_lexer": "ipython2",
   "version": "2.7.6"
  }
 },
 "nbformat": 4,
 "nbformat_minor": 0
}