{
 "cells": [
  {
   "cell_type": "markdown",
   "source": [
    "# Day 9: Smoke Basin\n",
    "\n",
    "[https://adventofcode.com/2021/day/9](https://adventofcode.com/2021/day/9)\n",
    "\n",
    "## Description\n",
    "\n",
    "### Part One\n",
    "\n",
    "These caves seem to be [lava tubes](https://en.wikipedia.org/wiki/Lava_tube). Parts are even still volcanically active; small hydrothermal vents release smoke into the caves that slowly <span title=\"This was originally going to be a puzzle about watersheds, but we're already under water.\">settles like rain</span>.\n",
    "\n",
    "If you can model how the smoke flows through the caves, you might be able to avoid it and be that much safer. The submarine generates a heightmap of the floor of the nearby caves for you (your puzzle input).\n",
    "\n",
    "Smoke flows to the lowest point of the area it's in. For example, consider the following heightmap:\n",
    "\n",
    "    2199943210\n",
    "    3987894921\n",
    "    9856789892\n",
    "    8767896789\n",
    "    9899965678\n",
    "\n",
    "\n",
    "Each number corresponds to the height of a particular location, where `9` is the highest and `0` is the lowest a location can be.\n",
    "\n",
    "Your first goal is to find the _low points_ - the locations that are lower than any of its adjacent locations. Most locations have four adjacent locations (up, down, left, and right); locations on the edge or corner of the map have three or two adjacent locations, respectively. (Diagonal locations do not count as adjacent.)\n",
    "\n",
    "In the above example, there are _four_ low points, all highlighted: two are in the first row (a `1` and a `0`), one is in the third row (a `5`), and one is in the bottom row (also a `5`). All other locations on the heightmap have some lower adjacent location, and so are not low points.\n",
    "\n",
    "The _risk level_ of a low point is _1 plus its height_. In the above example, the risk levels of the low points are `2`, `1`, `6`, and `6`. The sum of the risk levels of all low points in the heightmap is therefore _`15`_.\n",
    "\n",
    "Find all of the low points on your heightmap. _What is the sum of the risk levels of all low points on your heightmap?_"
   ],
   "metadata": {
    "collapsed": false,
    "pycharm": {
     "name": "#%% md\n"
    }
   }
  },
  {
   "cell_type": "code",
   "execution_count": 1,
   "outputs": [
    {
     "name": "stdout",
     "output_type": "stream",
     "text": [
      "part 1 15\n",
      "part 1 486\n"
     ]
    }
   ],
   "source": [
    "data = \"\"\"2199943210\n",
    "3987894921\n",
    "9856789892\n",
    "8767896789\n",
    "9899965678\"\"\".split()\n",
    "\n",
    "\n",
    "def neighbours(data, x, y):\n",
    "    if x > 0:\n",
    "        yield data[x - 1][y]\n",
    "    if x < len(data) - 1:\n",
    "        yield data[x + 1][y]\n",
    "    if y > 0:\n",
    "        yield data[x][y - 1]\n",
    "    if y < len(data[x]) - 1:\n",
    "        yield data[x][y + 1]\n",
    "\n",
    "\n",
    "def low(data):\n",
    "    for x in range(len(data)):\n",
    "        for y in range(len(data[x])):\n",
    "            v = data[x][y]\n",
    "            if all(v < neighbour for neighbour in neighbours(data, x, y)):\n",
    "                yield v, x, y\n",
    "\n",
    "\n",
    "def part1(data):\n",
    "    data = [[int(d) for d in line] for line in data]\n",
    "    print(\"part 1\", sum(v + 1 for v, _, _ in low(data)))\n",
    "\n",
    "\n",
    "part1(data)\n",
    "part1([s.strip() for s in open(\"input/day9.txt\").readlines()])"
   ],
   "metadata": {
    "collapsed": false,
    "pycharm": {
     "name": "#%%\n"
    }
   }
  },
  {
   "cell_type": "markdown",
   "source": [
    "<div class=\"alert alert-info\">Pretty straightforward. Yielding x and y from low was added for part 2 but doesn't\n",
    "affect the result.\n",
    "</div>\n"
   ],
   "metadata": {
    "collapsed": false,
    "pycharm": {
     "name": "#%% md\n"
    }
   }
  },
  {
   "cell_type": "markdown",
   "source": [
    "**Your puzzle answer was 486.**\n",
    "\n",
    "### Part Two\n",
    "\n",
    "Next, you need to find the largest basins so you know what areas are most important to avoid.\n",
    "\n",
    "A _basin_ is all locations that eventually flow downward to a single low point. Therefore, every low point has a basin, although some basins are very small. Locations of height `9` do not count as being in any basin, and all other locations will always be part of exactly one basin.\n",
    "\n",
    "The _size_ of a basin is the number of locations within the basin, including the low point. The example above has four basins.\n",
    "\n",
    "The top-left basin, size `3`:\n",
    "\n",
    "    2199943210\n",
    "    3987894921\n",
    "    9856789892\n",
    "    8767896789\n",
    "    9899965678\n",
    "\n",
    "\n",
    "The top-right basin, size `9`:\n",
    "\n",
    "    2199943210\n",
    "    3987894921\n",
    "    9856789892\n",
    "    8767896789\n",
    "    9899965678\n",
    "\n",
    "\n",
    "The middle basin, size `14`:\n",
    "\n",
    "    2199943210\n",
    "    3987894921\n",
    "    9856789892\n",
    "    8767896789\n",
    "    9899965678\n",
    "\n",
    "\n",
    "The bottom-right basin, size `9`:\n",
    "\n",
    "    2199943210\n",
    "    3987894921\n",
    "    9856789892\n",
    "    8767896789\n",
    "    9899965678\n",
    "\n",
    "\n",
    "Find the three largest basins and multiply their sizes together. In the above example, this is `9 * 14 * 9 = 1134`.\n",
    "\n",
    "_What do you get if you multiply together the sizes of the three largest basins?_"
   ],
   "metadata": {
    "collapsed": false
   }
  },
  {
   "cell_type": "code",
   "execution_count": 3,
   "outputs": [],
   "source": [
    "def npos(data, x, y):\n",
    "    if x > 0:\n",
    "        yield x - 1, y\n",
    "    if x < len(data) - 1:\n",
    "        yield x + 1, y\n",
    "    if y > 0:\n",
    "        yield x, y - 1\n",
    "    if y < len(data[x]) - 1:\n",
    "        yield x, y + 1"
   ],
   "metadata": {
    "collapsed": false,
    "pycharm": {
     "name": "#%%\n"
    }
   }
  },
  {
   "cell_type": "markdown",
   "source": [
    "<div class=\"alert alert-info\">Same as the neighbours function in part 1 only now I need the coordinates instead of\n",
    "the values.\n",
    "</div>"
   ],
   "metadata": {
    "collapsed": false
   }
  },
  {
   "cell_type": "code",
   "execution_count": 4,
   "outputs": [],
   "source": [
    "def basin(data, x, y):\n",
    "    points = {(x, y)}\n",
    "    v = data[x][y]\n",
    "    queue = [(x1, y1) for (x1, y1) in npos(data, x, y) if data[x1][y1] != 9]\n",
    "    while queue:\n",
    "        x1, y1 = queue.pop()\n",
    "        if (x1, y1) not in points:\n",
    "            points.add((x1, y1))\n",
    "            for x2, y2 in npos(data, x1, y1):\n",
    "                if data[x2][y2] != 9:\n",
    "                    queue.append((x2, y2))\n",
    "    return len(points)"
   ],
   "metadata": {
    "collapsed": false,
    "pycharm": {
     "name": "#%%\n"
    }
   }
  },
  {
   "cell_type": "markdown",
   "source": [
    "<div class=\"alert alert-info\">I really messed up badly here: I forgot to add data as a parameter and so my code\n",
    "was picking up the global of the same name and it took forever to spot. 😞\n",
    "</div>"
   ],
   "metadata": {
    "collapsed": false
   }
  },
  {
   "cell_type": "code",
   "execution_count": 6,
   "outputs": [
    {
     "name": "stdout",
     "output_type": "stream",
     "text": [
      "Part 2 1134\n",
      "Part 2 1059300\n"
     ]
    }
   ],
   "source": [
    "import heapq\n",
    "\n",
    "\n",
    "def part2(data):\n",
    "    data = [[int(d) for d in line] for line in data]\n",
    "    a, b, c = heapq.nlargest(3, [basin(data, x, y) for _, x, y in low(data)])\n",
    "    print(\"Part 2\", a * b * c)\n",
    "\n",
    "\n",
    "part2(data)\n",
    "part2([s.strip() for s in open(\"input/day9.txt\").readlines()])"
   ],
   "metadata": {
    "collapsed": false,
    "pycharm": {
     "name": "#%%\n"
    }
   }
  },
  {
   "cell_type": "markdown",
   "source": [
    "**Your puzzle answer was 1059300.**"
   ],
   "metadata": {
    "collapsed": false,
    "pycharm": {
     "name": "#%% md\n"
    }
   }
  },
  {
   "cell_type": "markdown",
   "source": [
    "<div class=\"alert alert-info\">Finally just count the size of each basin and pull out the top 3.\n",
    "</div>"
   ],
   "metadata": {
    "collapsed": false,
    "pycharm": {
     "name": "#%% md\n"
    }
   }
  }
 ],
 "metadata": {
  "kernelspec": {
   "display_name": "Python 3",
   "language": "python",
   "name": "python3"
  },
  "language_info": {
   "codemirror_mode": {
    "name": "ipython",
    "version": 2
   },
   "file_extension": ".py",
   "mimetype": "text/x-python",
   "name": "python",
   "nbconvert_exporter": "python",
   "pygments_lexer": "ipython2",
   "version": "2.7.6"
  }
 },
 "nbformat": 4,
 "nbformat_minor": 0
}