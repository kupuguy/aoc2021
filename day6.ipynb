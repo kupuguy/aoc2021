{
 "cells": [
  {
   "cell_type": "markdown",
   "metadata": {
    "collapsed": true,
    "pycharm": {
     "name": "#%% md\n"
    }
   },
   "source": [
    "# Day 6: Lanternfish\n",
    "\n",
    "[https://adventofcode.com/2021/day/6](https://adventofcode.com/2021/day/6)\n",
    "\n",
    "## Description\n",
    "\n",
    "### Part One\n",
    "\n",
    "The sea floor is getting steeper. Maybe the sleigh keys got carried this way?\n",
    "\n",
    "A massive school of glowing [lanternfish](https://en.wikipedia.org/wiki/Lanternfish) swims past. They must spawn quickly to reach such large numbers - maybe _exponentially_ quickly? You should model their growth rate to be sure.\n",
    "\n",
    "Although you know nothing about this specific species of lanternfish, you make some guesses about their attributes. Surely, <span title=\"I heard you like lanternfish.\">each lanternfish creates a new lanternfish</span> once every _7_ days.\n",
    "\n",
    "However, this process isn't necessarily synchronized between every lanternfish - one lanternfish might have 2 days left until it creates another lanternfish, while another might have 4. So, you can model each fish as a single number that represents _the number of days until it creates a new lanternfish_.\n",
    "\n",
    "Furthermore, you reason, a _new_ lanternfish would surely need slightly longer before it's capable of producing more lanternfish: two more days for its first cycle.\n",
    "\n",
    "So, suppose you have a lanternfish with an internal timer value of `3`:\n",
    "\n",
    "*   After one day, its internal timer would become `2`.\n",
    "*   After another day, its internal timer would become `1`.\n",
    "*   After another day, its internal timer would become `0`.\n",
    "*   After another day, its internal timer would reset to `6`, and it would create a _new_ lanternfish with an internal timer of `8`.\n",
    "*   After another day, the first lanternfish would have an internal timer of `5`, and the second lanternfish would have an internal timer of `7`.\n",
    "\n",
    "A lanternfish that creates a new fish resets its timer to `6`, _not `7`_ (because `0` is included as a valid timer value). The new lanternfish starts with an internal timer of `8` and does not start counting down until the next day.\n",
    "\n",
    "Realizing what you're trying to do, the submarine automatically produces a list of the ages of several hundred nearby lanternfish (your puzzle input). For example, suppose you were given the following list:\n",
    "\n",
    "    3,4,3,1,2\n",
    "\n",
    "This list means that the first fish has an internal timer of `3`, the second fish has an internal timer of `4`, and so on until the fifth fish, which has an internal timer of `2`. Simulating these fish over several days would proceed as follows:\n",
    "\n",
    "    Initial state: 3,4,3,1,2\n",
    "    After  1 day:  2,3,2,0,1\n",
    "    After  2 days: 1,2,1,6,0,8\n",
    "    After  3 days: 0,1,0,5,6,7,8\n",
    "    After  4 days: 6,0,6,4,5,6,7,8,8\n",
    "    After  5 days: 5,6,5,3,4,5,6,7,7,8\n",
    "    After  6 days: 4,5,4,2,3,4,5,6,6,7\n",
    "    After  7 days: 3,4,3,1,2,3,4,5,5,6\n",
    "    After  8 days: 2,3,2,0,1,2,3,4,4,5\n",
    "    After  9 days: 1,2,1,6,0,1,2,3,3,4,8\n",
    "    After 10 days: 0,1,0,5,6,0,1,2,2,3,7,8\n",
    "    After 11 days: 6,0,6,4,5,6,0,1,1,2,6,7,8,8,8\n",
    "    After 12 days: 5,6,5,3,4,5,6,0,0,1,5,6,7,7,7,8,8\n",
    "    After 13 days: 4,5,4,2,3,4,5,6,6,0,4,5,6,6,6,7,7,8,8\n",
    "    After 14 days: 3,4,3,1,2,3,4,5,5,6,3,4,5,5,5,6,6,7,7,8\n",
    "    After 15 days: 2,3,2,0,1,2,3,4,4,5,2,3,4,4,4,5,5,6,6,7\n",
    "    After 16 days: 1,2,1,6,0,1,2,3,3,4,1,2,3,3,3,4,4,5,5,6,8\n",
    "    After 17 days: 0,1,0,5,6,0,1,2,2,3,0,1,2,2,2,3,3,4,4,5,7,8\n",
    "    After 18 days: 6,0,6,4,5,6,0,1,1,2,6,0,1,1,1,2,2,3,3,4,6,7,8,8,8,8\n",
    "\n",
    "\n",
    "Each day, a `0` becomes a `6` and adds a new `8` to the end of the list, while each other number decreases by 1 if it was present at the start of the day.\n",
    "\n",
    "In this example, after 18 days, there are a total of `26` fish. After 80 days, there would be a total of _`5934`_.\n",
    "\n",
    "Find a way to simulate lanternfish. _How many lanternfish would there be after 80 days?_"
   ]
  },
  {
   "cell_type": "code",
   "execution_count": 1,
   "outputs": [
    {
     "name": "stdout",
     "output_type": "stream",
     "text": [
      "5934\n"
     ]
    }
   ],
   "source": [
    "# from rich import print\n",
    "\n",
    "def next_day(ages):\n",
    "    first = ages.pop(0)\n",
    "    ages[6] += first\n",
    "    ages.append(first)\n",
    "    return ages\n",
    "\n",
    "input = \"3,4,3,1,2\"\n",
    "def part1():\n",
    "    data = [int(d) for d in input.split(',')]\n",
    "\n",
    "    ages = [0]*9\n",
    "\n",
    "    for d in data:\n",
    "        ages[d] += 1\n",
    "\n",
    "    for i in range(80):\n",
    "        ages = next_day(ages)\n",
    "\n",
    "    print(sum(ages))\n",
    "\n",
    "part1()"
   ],
   "metadata": {
    "collapsed": false,
    "pycharm": {
     "name": "#%%\n"
    }
   }
  },
  {
   "cell_type": "markdown",
   "source": [
    "<div class=\"alert alert-info\">\n",
    "Who needs files? This input is short enough to inline it.\n",
    "</div>"
   ],
   "metadata": {
    "collapsed": false
   }
  },
  {
   "cell_type": "code",
   "execution_count": 2,
   "outputs": [
    {
     "name": "stdout",
     "output_type": "stream",
     "text": [
      "343441\n"
     ]
    }
   ],
   "source": [
    "input = \"3,5,2,5,4,3,2,2,3,5,2,3,2,2,2,2,3,5,3,5,5,2,2,3,4,2,3,5,5,3,3,5,2,4,5,4,3,5,3,2,5,4,1,1,1,5,1,4,1,4,3,5,2,3,2,2,2,5,2,1,2,2,2,2,3,4,5,2,5,4,1,3,1,5,5,5,3,5,3,1,5,4,2,5,3,3,5,5,5,3,2,2,1,1,3,2,1,2,2,4,3,4,1,3,4,1,2,2,4,1,3,1,4,3,3,1,2,3,1,3,4,1,1,2,5,1,2,1,2,4,1,3,2,1,1,2,4,3,5,1,3,2,1,3,2,3,4,5,5,4,1,3,4,1,2,3,5,2,3,5,2,1,1,5,5,4,4,4,5,3,3,2,5,4,4,1,5,1,5,5,5,2,2,1,2,4,5,1,2,1,4,5,4,2,4,3,2,5,2,2,1,4,3,5,4,2,1,1,5,1,4,5,1,2,5,5,1,4,1,1,4,5,2,5,3,1,4,5,2,1,3,1,3,3,5,5,1,4,1,3,2,2,3,5,4,3,2,5,1,1,1,2,2,5,3,4,2,1,3,2,5,3,2,2,3,5,2,1,4,5,4,4,5,5,3,3,5,4,5,5,4,3,5,3,5,3,1,3,2,2,1,4,4,5,2,2,4,2,1,4\"\n",
    "part1()"
   ],
   "metadata": {
    "collapsed": false,
    "pycharm": {
     "name": "#%%\n"
    }
   }
  },
  {
   "cell_type": "markdown",
   "source": [
    "**Your puzzle answer was 343441.**\n",
    "\n",
    "### Part Two\n",
    "\n",
    "Suppose the lanternfish live forever and have unlimited food and space. Would they take over the entire ocean?\n",
    "\n",
    "After 256 days in the example above, there would be a total of _`26984457539`_ lanternfish!\n",
    "\n",
    "_How many lanternfish would there be after 256 days?_"
   ],
   "metadata": {
    "collapsed": false
   }
  },
  {
   "cell_type": "code",
   "execution_count": 3,
   "outputs": [
    {
     "name": "stdout",
     "output_type": "stream",
     "text": [
      "1569108373832\n"
     ]
    }
   ],
   "source": [
    "def part2():\n",
    "    data = [int(d) for d in input.split(',')]\n",
    "\n",
    "    ages = [0]*9\n",
    "\n",
    "    for d in data:\n",
    "        ages[d] += 1\n",
    "\n",
    "    for i in range(256):\n",
    "        ages = next_day(ages)\n",
    "\n",
    "    print(sum(ages))\n",
    "\n",
    "part2()"
   ],
   "metadata": {
    "collapsed": false,
    "pycharm": {
     "name": "#%%\n"
    }
   }
  },
  {
   "cell_type": "markdown",
   "source": [
    "**Your puzzle answer was 1569108373832.**"
   ],
   "metadata": {
    "collapsed": false,
    "pycharm": {
     "name": "#%% md\n"
    }
   }
  },
  {
   "cell_type": "markdown",
   "source": [
    "<div class=\"alert alert-info\">\n",
    "Edit range(80) into range(256), simples.\n",
    "</div>"
   ],
   "metadata": {
    "collapsed": false
   }
  }
 ],
 "metadata": {
  "kernelspec": {
   "display_name": "Python 3",
   "language": "python",
   "name": "python3"
  },
  "language_info": {
   "codemirror_mode": {
    "name": "ipython",
    "version": 2
   },
   "file_extension": ".py",
   "mimetype": "text/x-python",
   "name": "python",
   "nbconvert_exporter": "python",
   "pygments_lexer": "ipython2",
   "version": "2.7.6"
  }
 },
 "nbformat": 4,
 "nbformat_minor": 0
}
