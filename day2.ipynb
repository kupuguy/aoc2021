{
 "cells": [
  {
   "cell_type": "markdown",
   "metadata": {
    "collapsed": true,
    "pycharm": {
     "name": "#%% md\n"
    }
   },
   "source": [
    "# Day 2: Dive!\n",
    "\n",
    "[https://adventofcode.com/2021/day/2](https://adventofcode.com/2021/day/2)\n",
    "\n",
    "## Description\n",
    "\n",
    "### Part One\n",
    "\n",
    "Now, you need to figure out how to <span title=\"Tank, I need a pilot program for a B212 helicopter.\">pilot this thing</span>.\n",
    "\n",
    "It seems like the submarine can take a series of commands like `forward 1`, `down 2`, or `up 3`:\n",
    "\n",
    "*   `forward X` increases the horizontal position by `X` units.\n",
    "*   `down X` _increases_ the depth by `X` units.\n",
    "*   `up X` _decreases_ the depth by `X` units.\n",
    "\n",
    "Note that since you're on a submarine, `down` and `up` affect your _depth_, and so they have the opposite result of what you might expect.\n",
    "\n",
    "The submarine seems to already have a planned course (your puzzle input). You should probably figure out where it's going. For example:\n",
    "\n",
    "    forward 5\n",
    "    down 5\n",
    "    forward 8\n",
    "    up 3\n",
    "    down 8\n",
    "    forward 2\n",
    "\n",
    "\n",
    "Your horizontal position and depth both start at `0`. The steps above would then modify them as follows:\n",
    "\n",
    "*   `forward 5` adds `5` to your horizontal position, a total of `5`.\n",
    "*   `down 5` adds `5` to your depth, resulting in a value of `5`.\n",
    "*   `forward 8` adds `8` to your horizontal position, a total of `13`.\n",
    "*   `up 3` decreases your depth by `3`, resulting in a value of `2`.\n",
    "*   `down 8` adds `8` to your depth, resulting in a value of `10`.\n",
    "*   `forward 2` adds `2` to your horizontal position, a total of `15`.\n",
    "\n",
    "After following these instructions, you would have a horizontal position of `15` and a depth of `10`. (Multiplying these together produces _`150`_.)\n",
    "\n",
    "Calculate the horizontal position and depth you would have after following the planned course. _What do you get if you multiply your final horizontal position by your final depth?_"
   ]
  },
  {
   "cell_type": "code",
   "execution_count": 1,
   "metadata": {
    "pycharm": {
     "name": "#%%\n"
    }
   },
   "outputs": [
    {
     "name": "stdout",
     "output_type": "stream",
     "text": [
      "150\n"
     ]
    }
   ],
   "source": [
    "data = [line.strip() for line in open('input/day2-test.txt')]\n",
    "posx, posy = 0, 0\n",
    "for step in data:\n",
    "    n = int(step.split()[-1])\n",
    "    if step.startswith('forward'):\n",
    "        posx += n\n",
    "    elif step.startswith('down'):\n",
    "        posy += n\n",
    "    elif step.startswith('up'):\n",
    "        posy -= n\n",
    "print(posx * posy)"
   ]
  },
  {
   "cell_type": "markdown",
   "metadata": {},
   "source": [
    "<div class=\"alert alert-info\">\n",
    "That's the sample data giving the right answer, now for the real data:\n",
    "</div>"
   ]
  },
  {
   "cell_type": "code",
   "execution_count": 2,
   "metadata": {
    "pycharm": {
     "name": "#%%\n"
    }
   },
   "outputs": [
    {
     "name": "stdout",
     "output_type": "stream",
     "text": [
      "1451208\n"
     ]
    }
   ],
   "source": [
    "data = [line.strip() for line in open('input/day2.txt')]\n",
    "posx, posy = 0, 0\n",
    "for step in data:\n",
    "    n = int(step.split()[-1])\n",
    "    if step.startswith('forward'):\n",
    "        posx += n\n",
    "    elif step.startswith('down'):\n",
    "        posy += n\n",
    "    elif step.startswith('up'):\n",
    "        posy -= n\n",
    "print(posx * posy)"
   ]
  },
  {
   "cell_type": "markdown",
   "metadata": {
    "pycharm": {
     "name": "#%% md\n"
    }
   },
   "source": [
    "**Your puzzle answer was 1451208.**\n",
    "\n",
    "### Part Two\n",
    "\n",
    "Based on your calculations, the planned course doesn't seem to make any sense. You find the submarine manual and discover that the process is actually slightly more complicated.\n",
    "\n",
    "In addition to horizontal position and depth, you'll also need to track a third value, _aim_, which also starts at `0`. The commands also mean something entirely different than you first thought:\n",
    "\n",
    "*   `down X` _increases_ your aim by `X` units.\n",
    "*   `up X` _decreases_ your aim by `X` units.\n",
    "*   `forward X` does two things:\n",
    "    *   It increases your horizontal position by `X` units.\n",
    "    *   It increases your depth by your aim _multiplied by_ `X`.\n",
    "\n",
    "Again note that since you're on a submarine, `down` and `up` do the opposite of what you might expect: \"down\" means aiming in the positive direction.\n",
    "\n",
    "Now, the above example does something different:\n",
    "\n",
    "*   `forward 5` adds `5` to your horizontal position, a total of `5`. Because your aim is `0`, your depth does not change.\n",
    "*   `down 5` adds `5` to your aim, resulting in a value of `5`.\n",
    "*   `forward 8` adds `8` to your horizontal position, a total of `13`. Because your aim is `5`, your depth increases by `8*5=40`.\n",
    "*   `up 3` decreases your aim by `3`, resulting in a value of `2`.\n",
    "*   `down 8` adds `8` to your aim, resulting in a value of `10`.\n",
    "*   `forward 2` adds `2` to your horizontal position, a total of `15`. Because your aim is `10`, your depth increases by `2*10=20` to a total of `60`.\n",
    "\n",
    "After following these new instructions, you would have a horizontal position of `15` and a depth of `60`. (Multiplying these produces _`900`_.)\n",
    "\n",
    "Using this new interpretation of the commands, calculate the horizontal position and depth you would have after following the planned course. _What do you get if you multiply your final horizontal position by your final depth?_"
   ]
  },
  {
   "cell_type": "code",
   "execution_count": 3,
   "metadata": {
    "pycharm": {
     "name": "#%%\n"
    }
   },
   "outputs": [
    {
     "name": "stdout",
     "output_type": "stream",
     "text": [
      "1620141160\n"
     ]
    }
   ],
   "source": [
    "data = [line.strip() for line in open('input/day2.txt')]\n",
    "posx, posy = 0, 0\n",
    "aim = 0\n",
    "for step in data:\n",
    "    n = int(step.split()[-1])\n",
    "    if step.startswith('forward'):\n",
    "        posx += n\n",
    "        posy += aim * n\n",
    "    elif step.startswith('down'):\n",
    "        aim += n\n",
    "    elif step.startswith('up'):\n",
    "        aim -= n\n",
    "print(posx * posy)"
   ]
  },
  {
   "cell_type": "markdown",
   "metadata": {
    "pycharm": {
     "name": "#%% md\n"
    }
   },
   "source": [
    "**Your puzzle answer was 1620141160.**"
   ]
  },
  {
   "cell_type": "markdown",
   "metadata": {
    "pycharm": {
     "name": "#%% md\n"
    }
   },
   "source": [
    "<div class=\"alert alert-info\">\n",
    "All pretty straightforward. Again I used the Python repl and I didn't save what I did so I've reconstructed it\n",
    "probably a bit more neatly than the original.\n",
    "</div>\n"
   ]
  }
 ],
 "metadata": {
  "kernelspec": {
   "display_name": "Python 3 (ipykernel)",
   "language": "python",
   "name": "python3"
  },
  "language_info": {
   "codemirror_mode": {
    "name": "ipython",
    "version": 3
   },
   "file_extension": ".py",
   "mimetype": "text/x-python",
   "name": "python",
   "nbconvert_exporter": "python",
   "pygments_lexer": "ipython3",
   "version": "3.10.0"
  },
  "pycharm": {
   "stem_cell": {
    "cell_type": "raw",
    "metadata": {
     "collapsed": false
    },
    "source": [
     "!!jt -t chesterish"
    ]
   }
  }
 },
 "nbformat": 4,
 "nbformat_minor": 1
}
